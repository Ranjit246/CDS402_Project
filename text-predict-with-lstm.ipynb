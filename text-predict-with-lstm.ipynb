{
 "cells": [
  {
   "attachments": {},
   "cell_type": "markdown",
   "metadata": {
    "id": "pRG0kLuDx7ik",
    "papermill": {
     "duration": 0.025685,
     "end_time": "2023-05-09T11:53:56.922890",
     "exception": false,
     "start_time": "2023-05-09T11:53:56.897205",
     "status": "completed"
    },
    "tags": []
   },
   "source": [
    "## 1. import and Load dataset"
   ]
  },
  {
   "cell_type": "code",
   "execution_count": 1,
   "metadata": {
    "execution": {
     "iopub.execute_input": "2023-05-09T11:53:56.977535Z",
     "iopub.status.busy": "2023-05-09T11:53:56.976764Z",
     "iopub.status.idle": "2023-05-09T11:53:56.979729Z",
     "shell.execute_reply": "2023-05-09T11:53:56.979193Z",
     "shell.execute_reply.started": "2023-05-09T09:58:50.010107Z"
    },
    "id": "oFB7mSaapad_",
    "papermill": {
     "duration": 0.032547,
     "end_time": "2023-05-09T11:53:56.979844",
     "exception": false,
     "start_time": "2023-05-09T11:53:56.947297",
     "status": "completed"
    },
    "tags": []
   },
   "outputs": [],
   "source": [
    "import json\n",
    "import re\n",
    "import string\n",
    "import itertools\n",
    "import numpy as np"
   ]
  },
  {
   "cell_type": "code",
   "execution_count": 2,
   "metadata": {
    "execution": {
     "iopub.execute_input": "2023-05-09T11:53:57.033084Z",
     "iopub.status.busy": "2023-05-09T11:53:57.032361Z",
     "iopub.status.idle": "2023-05-09T11:53:57.035106Z",
     "shell.execute_reply": "2023-05-09T11:53:57.034631Z",
     "shell.execute_reply.started": "2023-05-09T09:58:50.018531Z"
    },
    "id": "qP5tYUlMrDtj",
    "papermill": {
     "duration": 0.031358,
     "end_time": "2023-05-09T11:53:57.035251",
     "exception": false,
     "start_time": "2023-05-09T11:53:57.003893",
     "status": "completed"
    },
    "tags": []
   },
   "outputs": [],
   "source": [
    "vocab = [n for n in string.printable]\n",
    "vocab_size = len(vocab)\n",
    "char2idx = {v:idx for idx,v in enumerate(vocab)}\n",
    "idx2char= np.array(vocab)"
   ]
  },
  {
   "cell_type": "code",
   "execution_count": 3,
   "metadata": {
    "execution": {
     "iopub.execute_input": "2023-05-09T11:53:57.088217Z",
     "iopub.status.busy": "2023-05-09T11:53:57.087695Z",
     "iopub.status.idle": "2023-05-09T11:53:57.104987Z",
     "shell.execute_reply": "2023-05-09T11:53:57.105452Z",
     "shell.execute_reply.started": "2023-05-09T09:58:50.035641Z"
    },
    "id": "C1n6iQQohan4",
    "papermill": {
     "duration": 0.045524,
     "end_time": "2023-05-09T11:53:57.105573",
     "exception": false,
     "start_time": "2023-05-09T11:53:57.060049",
     "status": "completed"
    },
    "tags": []
   },
   "outputs": [],
   "source": [
    "gen_json = (json.loads(line) for line in itertools.islice(open('/kaggle/input/arxiv/arxiv-metadata-oai-snapshot.json','r'),10))\n",
    "temp = []\n",
    "for line in gen_json:\n",
    "  temp.append(line['abstract'])"
   ]
  },
  {
   "cell_type": "code",
   "execution_count": 4,
   "metadata": {
    "execution": {
     "iopub.execute_input": "2023-05-09T11:53:57.158763Z",
     "iopub.status.busy": "2023-05-09T11:53:57.157947Z",
     "iopub.status.idle": "2023-05-09T11:53:57.161566Z",
     "shell.execute_reply": "2023-05-09T11:53:57.161977Z",
     "shell.execute_reply.started": "2023-05-09T09:58:50.052603Z"
    },
    "id": "nehh6-cSAzxS",
    "outputId": "4c3a49fe-a0be-43d1-a187-c60dfd5c35c4",
    "papermill": {
     "duration": 0.03264,
     "end_time": "2023-05-09T11:53:57.162097",
     "exception": false,
     "start_time": "2023-05-09T11:53:57.129457",
     "status": "completed"
    },
    "tags": []
   },
   "outputs": [
    {
     "data": {
      "text/plain": [
       "'  A fully differential calculation in perturbative quantum chromodynamics is\\npresented for the production of massive photon pairs at hadron colliders. All\\nnext-to-leading order perturbative contributions from quark-antiquark,\\ngluon-(anti)quark, and gluon-gluon subprocesses are included, as well as\\nall-orders resummation of initial-state gluon radiation valid at\\nnext-to-next-to-leading logarithmic accuracy. The region of phase space is\\nspecified in which the calculation is most reliable. Good agreement is\\ndemonstrated with data from the Fermilab Tevatron, and predictions are made for\\nmore detailed tests with CDF and DO data. Predictions are shown for\\ndistributions of diphoton pairs produced at the energy of the Large Hadron\\nCollider (LHC). Distributions of the diphoton pairs from the decay of a Higgs\\nboson are contrasted with those produced from QCD processes at the LHC, showing\\nthat enhanced sensitivity to the signal can be obtained with judicious\\nselection of events.\\n'"
      ]
     },
     "execution_count": 4,
     "metadata": {},
     "output_type": "execute_result"
    }
   ],
   "source": [
    "temp[0]"
   ]
  },
  {
   "attachments": {},
   "cell_type": "markdown",
   "metadata": {
    "papermill": {
     "duration": 0.023697,
     "end_time": "2023-05-09T11:53:57.210057",
     "exception": false,
     "start_time": "2023-05-09T11:53:57.186360",
     "status": "completed"
    },
    "tags": []
   },
   "source": [
    "## 2. Pre-process the data"
   ]
  },
  {
   "cell_type": "code",
   "execution_count": 5,
   "metadata": {
    "execution": {
     "iopub.execute_input": "2023-05-09T11:53:57.267329Z",
     "iopub.status.busy": "2023-05-09T11:53:57.266543Z",
     "iopub.status.idle": "2023-05-09T11:54:34.155864Z",
     "shell.execute_reply": "2023-05-09T11:54:34.154824Z",
     "shell.execute_reply.started": "2023-05-09T09:58:50.065666Z"
    },
    "id": "jio4dktzrHZW",
    "papermill": {
     "duration": 36.921095,
     "end_time": "2023-05-09T11:54:34.156033",
     "exception": false,
     "start_time": "2023-05-09T11:53:57.234938",
     "status": "completed"
    },
    "tags": []
   },
   "outputs": [],
   "source": [
    "num_examples = 100000\n",
    "gen_json = (json.loads(line) for line in itertools.islice(open('/kaggle/input/arxiv/arxiv-metadata-oai-snapshot.json','r'),num_examples))\n",
    "abs_list = []\n",
    "for line in gen_json:\n",
    "  abs = line['abstract']\n",
    "  abs = re.sub(r'(\\S)\\s+(\\S)',r'\\1 \\2',abs).replace('\\n','\\n\\n')\n",
    "  abs = abs.replace('â\\x80\\x99',\"'\")\n",
    "  abs = abs.replace('\\x7f',\"\")\n",
    "  abs = abs.replace('â\\x88\\x9e',\"'\")\n",
    "  abs = abs.replace('â\\x89¤',\"'\")\n",
    "  abs = abs.replace('â\\x80\\x94',\"'\")\n",
    "  abs = abs.replace('â\\x80\\x93',\"-\")\n",
    "  for k in abs:\n",
    "    abs_list.append(char2idx[k])\n",
    "\n",
    "abs_list = np.array(abs_list)"
   ]
  },
  {
   "cell_type": "code",
   "execution_count": 6,
   "metadata": {
    "execution": {
     "iopub.execute_input": "2023-05-09T11:54:34.213305Z",
     "iopub.status.busy": "2023-05-09T11:54:34.212410Z",
     "iopub.status.idle": "2023-05-09T11:54:34.215202Z",
     "shell.execute_reply": "2023-05-09T11:54:34.215616Z",
     "shell.execute_reply.started": "2023-05-09T09:58:53.573725Z"
    },
    "papermill": {
     "duration": 0.034959,
     "end_time": "2023-05-09T11:54:34.215736",
     "exception": false,
     "start_time": "2023-05-09T11:54:34.180777",
     "status": "completed"
    },
    "tags": []
   },
   "outputs": [
    {
     "data": {
      "text/plain": [
       "array([94, 94, 36, ..., 75, 96, 96])"
      ]
     },
     "execution_count": 6,
     "metadata": {},
     "output_type": "execute_result"
    }
   ],
   "source": [
    "abs_list"
   ]
  },
  {
   "cell_type": "code",
   "execution_count": 7,
   "metadata": {
    "execution": {
     "iopub.execute_input": "2023-05-09T11:54:34.269655Z",
     "iopub.status.busy": "2023-05-09T11:54:34.269098Z",
     "iopub.status.idle": "2023-05-09T11:54:34.274812Z",
     "shell.execute_reply": "2023-05-09T11:54:34.274375Z",
     "shell.execute_reply.started": "2023-05-09T09:58:53.580732Z"
    },
    "id": "E9B3doGEsHcM",
    "outputId": "1e930336-1305-4b33-c305-b1657adfc0fe",
    "papermill": {
     "duration": 0.033787,
     "end_time": "2023-05-09T11:54:34.274913",
     "exception": false,
     "start_time": "2023-05-09T11:54:34.241126",
     "status": "completed"
    },
    "tags": []
   },
   "outputs": [
    {
     "data": {
      "text/plain": [
       "(80067818,)"
      ]
     },
     "execution_count": 7,
     "metadata": {},
     "output_type": "execute_result"
    }
   ],
   "source": [
    "abs_list.shape"
   ]
  },
  {
   "attachments": {},
   "cell_type": "markdown",
   "metadata": {
    "id": "-KaEL8yg5P2u",
    "papermill": {
     "duration": 0.024681,
     "end_time": "2023-05-09T11:54:34.324347",
     "exception": false,
     "start_time": "2023-05-09T11:54:34.299666",
     "status": "completed"
    },
    "tags": []
   },
   "source": [
    "## 3. Define the model"
   ]
  },
  {
   "cell_type": "code",
   "execution_count": 8,
   "metadata": {
    "execution": {
     "iopub.execute_input": "2023-05-09T11:54:34.378263Z",
     "iopub.status.busy": "2023-05-09T11:54:34.377618Z",
     "iopub.status.idle": "2023-05-09T11:54:39.044473Z",
     "shell.execute_reply": "2023-05-09T11:54:39.044936Z",
     "shell.execute_reply.started": "2023-05-09T09:58:53.597770Z"
    },
    "id": "ub1n16vGg57X",
    "papermill": {
     "duration": 4.696063,
     "end_time": "2023-05-09T11:54:39.045114",
     "exception": false,
     "start_time": "2023-05-09T11:54:34.349051",
     "status": "completed"
    },
    "tags": []
   },
   "outputs": [],
   "source": [
    "import os\n",
    "import tensorflow as tf\n",
    "from tensorflow.keras.models import Sequential\n",
    "from tensorflow.keras.layers import Embedding, LSTM, GRU, Dense"
   ]
  },
  {
   "cell_type": "code",
   "execution_count": 9,
   "metadata": {
    "execution": {
     "iopub.execute_input": "2023-05-09T11:54:40.894530Z",
     "iopub.status.busy": "2023-05-09T11:54:40.893920Z",
     "iopub.status.idle": "2023-05-09T11:54:41.476855Z",
     "shell.execute_reply": "2023-05-09T11:54:41.476341Z",
     "shell.execute_reply.started": "2023-05-09T09:58:55.213968Z"
    },
    "id": "bGNGAqJIonzC",
    "papermill": {
     "duration": 2.406337,
     "end_time": "2023-05-09T11:54:41.476987",
     "exception": false,
     "start_time": "2023-05-09T11:54:39.070650",
     "status": "completed"
    },
    "tags": []
   },
   "outputs": [],
   "source": [
    "seq_len = 150\n",
    "batch_size = 256\n",
    "dataset = tf.data.Dataset.from_tensor_slices(abs_list)\n",
    "dataset = dataset.batch(seq_len+1,drop_remainder=True)\n",
    "dataset = dataset.map(lambda x: (x[:-1],x[1:]))\n",
    "dataset = dataset.shuffle(1000).batch(batch_size,drop_remainder=True)"
   ]
  },
  {
   "cell_type": "code",
   "execution_count": 10,
   "metadata": {
    "execution": {
     "iopub.execute_input": "2023-05-09T11:54:41.532362Z",
     "iopub.status.busy": "2023-05-09T11:54:41.531657Z",
     "iopub.status.idle": "2023-05-09T11:54:41.537355Z",
     "shell.execute_reply": "2023-05-09T11:54:41.536796Z",
     "shell.execute_reply.started": "2023-05-09T09:58:55.897063Z"
    },
    "id": "JK-g6gC3qa_4",
    "outputId": "45ab6037-049c-438e-cc7c-98924b5b87dd",
    "papermill": {
     "duration": 0.035088,
     "end_time": "2023-05-09T11:54:41.537465",
     "exception": false,
     "start_time": "2023-05-09T11:54:41.502377",
     "status": "completed"
    },
    "tags": []
   },
   "outputs": [
    {
     "data": {
      "text/plain": [
       "<BatchDataset shapes: ((256, 150), (256, 150)), types: (tf.int64, tf.int64)>"
      ]
     },
     "execution_count": 10,
     "metadata": {},
     "output_type": "execute_result"
    }
   ],
   "source": [
    "dataset"
   ]
  },
  {
   "cell_type": "code",
   "execution_count": 11,
   "metadata": {
    "execution": {
     "iopub.execute_input": "2023-05-09T11:54:41.594194Z",
     "iopub.status.busy": "2023-05-09T11:54:41.593478Z",
     "iopub.status.idle": "2023-05-09T11:54:41.596586Z",
     "shell.execute_reply": "2023-05-09T11:54:41.596168Z",
     "shell.execute_reply.started": "2023-05-09T09:58:55.908381Z"
    },
    "id": "edULLcPBsJ4J",
    "papermill": {
     "duration": 0.034513,
     "end_time": "2023-05-09T11:54:41.596684",
     "exception": false,
     "start_time": "2023-05-09T11:54:41.562171",
     "status": "completed"
    },
    "tags": []
   },
   "outputs": [],
   "source": [
    "def make_model(vocabulary_size,embedding_dimension,rnn_units,batch_size,stateful):\n",
    "  model = Sequential()\n",
    "  model.add(Embedding(vocabulary_size,embedding_dimension,\n",
    "                      batch_input_shape=[batch_size,None]))\n",
    "  model.add(LSTM(rnn_units,return_sequences=True,stateful=stateful))\n",
    "  model.add(LSTM(rnn_units,return_sequences=True,stateful=stateful))\n",
    "  model.add(Dense(vocabulary_size))\n",
    "  model.compile(loss=tf.keras.losses.SparseCategoricalCrossentropy(from_logits=True),\n",
    "                optimizer='adam',metrics=['accuracy'])\n",
    "  model.summary()\n",
    "  return model"
   ]
  },
  {
   "cell_type": "code",
   "execution_count": 12,
   "metadata": {
    "execution": {
     "iopub.execute_input": "2023-05-09T11:54:41.651916Z",
     "iopub.status.busy": "2023-05-09T11:54:41.651114Z",
     "iopub.status.idle": "2023-05-09T11:54:44.031059Z",
     "shell.execute_reply": "2023-05-09T11:54:44.030578Z",
     "shell.execute_reply.started": "2023-05-09T09:58:55.917851Z"
    },
    "id": "xiPJX15ws2el",
    "outputId": "1c57c2e6-3302-4a9d-846e-0d28b0fea646",
    "papermill": {
     "duration": 2.409591,
     "end_time": "2023-05-09T11:54:44.031173",
     "exception": false,
     "start_time": "2023-05-09T11:54:41.621582",
     "status": "completed"
    },
    "tags": []
   },
   "outputs": [
    {
     "name": "stdout",
     "output_type": "stream",
     "text": [
      "Model: \"sequential\"\n",
      "_________________________________________________________________\n",
      "Layer (type)                 Output Shape              Param #   \n",
      "=================================================================\n",
      "embedding (Embedding)        (256, None, 256)          25600     \n",
      "_________________________________________________________________\n",
      "lstm (LSTM)                  (256, None, 1024)         5246976   \n",
      "_________________________________________________________________\n",
      "lstm_1 (LSTM)                (256, None, 1024)         8392704   \n",
      "_________________________________________________________________\n",
      "dense (Dense)                (256, None, 100)          102500    \n",
      "=================================================================\n",
      "Total params: 13,767,780\n",
      "Trainable params: 13,767,780\n",
      "Non-trainable params: 0\n",
      "_________________________________________________________________\n"
     ]
    }
   ],
   "source": [
    "emb_dim = 256\n",
    "rnn_units = 1024\n",
    "model = make_model(vocab_size,emb_dim,rnn_units,batch_size,False)"
   ]
  },
  {
   "attachments": {},
   "cell_type": "markdown",
   "metadata": {
    "id": "I-YgaB5QI_Xi",
    "papermill": {
     "duration": 0.027036,
     "end_time": "2023-05-09T11:54:44.083919",
     "exception": false,
     "start_time": "2023-05-09T11:54:44.056883",
     "status": "completed"
    },
    "tags": []
   },
   "source": [
    "## 4. Train the model"
   ]
  },
  {
   "cell_type": "code",
   "execution_count": 13,
   "metadata": {
    "execution": {
     "iopub.execute_input": "2023-05-09T11:54:44.139011Z",
     "iopub.status.busy": "2023-05-09T11:54:44.138432Z",
     "iopub.status.idle": "2023-05-09T11:54:44.141930Z",
     "shell.execute_reply": "2023-05-09T11:54:44.142356Z",
     "shell.execute_reply.started": "2023-05-09T09:58:58.296009Z"
    },
    "id": "7T8uDw8gtC2W",
    "papermill": {
     "duration": 0.03386,
     "end_time": "2023-05-09T11:54:44.142477",
     "exception": false,
     "start_time": "2023-05-09T11:54:44.108617",
     "status": "completed"
    },
    "tags": []
   },
   "outputs": [],
   "source": [
    "checkpoint_dir = '/kaggle/temp/'\n",
    "checkpoint_prefix = os.path.join(checkpoint_dir,'chkpt_{epoch}')\n",
    "checkpoint_callback = tf.keras.callbacks.ModelCheckpoint(checkpoint_prefix,\n",
    "                                                         save_weights_only=True)"
   ]
  },
  {
   "cell_type": "code",
   "execution_count": 14,
   "metadata": {
    "execution": {
     "iopub.execute_input": "2023-05-09T11:54:44.197078Z",
     "iopub.status.busy": "2023-05-09T11:54:44.196528Z",
     "iopub.status.idle": "2023-05-09T15:01:30.700835Z",
     "shell.execute_reply": "2023-05-09T15:01:30.700349Z",
     "shell.execute_reply.started": "2023-05-09T09:58:58.303483Z"
    },
    "papermill": {
     "duration": 11206.533225,
     "end_time": "2023-05-09T15:01:30.700972",
     "exception": false,
     "start_time": "2023-05-09T11:54:44.167747",
     "status": "completed"
    },
    "tags": []
   },
   "outputs": [
    {
     "name": "stdout",
     "output_type": "stream",
     "text": [
      "Epoch 1/10\n",
      "2071/2071 [==============================] - 1111s 537ms/step - loss: 1.3233 - accuracy: 0.6181\n",
      "Epoch 2/10\n",
      "2071/2071 [==============================] - 1115s 539ms/step - loss: 0.9732 - accuracy: 0.7083\n",
      "Epoch 3/10\n",
      "2071/2071 [==============================] - 1118s 540ms/step - loss: 0.9262 - accuracy: 0.7211\n",
      "Epoch 4/10\n",
      "2071/2071 [==============================] - 1121s 541ms/step - loss: 0.8997 - accuracy: 0.7284\n",
      "Epoch 5/10\n",
      "2071/2071 [==============================] - 1121s 541ms/step - loss: 0.8818 - accuracy: 0.7333\n",
      "Epoch 6/10\n",
      "2071/2071 [==============================] - 1120s 541ms/step - loss: 0.8691 - accuracy: 0.7367\n",
      "Epoch 7/10\n",
      "2071/2071 [==============================] - 1121s 541ms/step - loss: 0.8597 - accuracy: 0.7392\n",
      "Epoch 8/10\n",
      "2071/2071 [==============================] - 1121s 541ms/step - loss: 0.8527 - accuracy: 0.7410\n",
      "Epoch 9/10\n",
      "2071/2071 [==============================] - 1119s 541ms/step - loss: 0.8473 - accuracy: 0.7424\n",
      "Epoch 10/10\n",
      "2071/2071 [==============================] - 1119s 540ms/step - loss: 0.8432 - accuracy: 0.7435\n"
     ]
    },
    {
     "data": {
      "text/plain": [
       "<tensorflow.python.keras.callbacks.History at 0x771aeb242990>"
      ]
     },
     "execution_count": 14,
     "metadata": {},
     "output_type": "execute_result"
    }
   ],
   "source": [
    "model.fit(dataset,epochs=10,callbacks=[checkpoint_callback])"
   ]
  },
  {
   "cell_type": "code",
   "execution_count": 15,
   "metadata": {
    "execution": {
     "iopub.execute_input": "2023-05-09T15:01:41.378159Z",
     "iopub.status.busy": "2023-05-09T15:01:41.377284Z",
     "iopub.status.idle": "2023-05-09T15:01:41.383472Z",
     "shell.execute_reply": "2023-05-09T15:01:41.383065Z",
     "shell.execute_reply.started": "2023-05-09T10:17:38.197177Z"
    },
    "id": "oEee8WzFGNNm",
    "outputId": "9f1d640d-35eb-4285-80c7-959ebfb88391",
    "papermill": {
     "duration": 5.478541,
     "end_time": "2023-05-09T15:01:41.383583",
     "exception": false,
     "start_time": "2023-05-09T15:01:35.905042",
     "status": "completed"
    },
    "tags": []
   },
   "outputs": [
    {
     "data": {
      "text/plain": [
       "'/kaggle/temp/chkpt_10'"
      ]
     },
     "execution_count": 15,
     "metadata": {},
     "output_type": "execute_result"
    }
   ],
   "source": [
    "tf.train.latest_checkpoint(checkpoint_dir)"
   ]
  },
  {
   "cell_type": "code",
   "execution_count": 16,
   "metadata": {
    "execution": {
     "iopub.execute_input": "2023-05-09T15:01:52.342290Z",
     "iopub.status.busy": "2023-05-09T15:01:52.341271Z",
     "iopub.status.idle": "2023-05-09T15:01:54.296123Z",
     "shell.execute_reply": "2023-05-09T15:01:54.296698Z",
     "shell.execute_reply.started": "2023-05-09T10:17:38.213082Z"
    },
    "id": "R2XQoKCqvWFa",
    "outputId": "7720052f-f25b-4d08-cd20-0fd1aed6c50b",
    "papermill": {
     "duration": 7.158927,
     "end_time": "2023-05-09T15:01:54.296833",
     "exception": false,
     "start_time": "2023-05-09T15:01:47.137906",
     "status": "completed"
    },
    "tags": []
   },
   "outputs": [
    {
     "name": "stdout",
     "output_type": "stream",
     "text": [
      "Model: \"sequential_1\"\n",
      "_________________________________________________________________\n",
      "Layer (type)                 Output Shape              Param #   \n",
      "=================================================================\n",
      "embedding_1 (Embedding)      (1, None, 256)            25600     \n",
      "_________________________________________________________________\n",
      "lstm_2 (LSTM)                (1, None, 1024)           5246976   \n",
      "_________________________________________________________________\n",
      "lstm_3 (LSTM)                (1, None, 1024)           8392704   \n",
      "_________________________________________________________________\n",
      "dense_1 (Dense)              (1, None, 100)            102500    \n",
      "=================================================================\n",
      "Total params: 13,767,780\n",
      "Trainable params: 13,767,780\n",
      "Non-trainable params: 0\n",
      "_________________________________________________________________\n"
     ]
    }
   ],
   "source": [
    "model = make_model(vocab_size,emb_dim,rnn_units,1,True)\n",
    "model.load_weights(tf.train.latest_checkpoint(checkpoint_dir))\n",
    "model.build(tf.TensorShape([1,None]))"
   ]
  },
  {
   "attachments": {},
   "cell_type": "markdown",
   "metadata": {
    "papermill": {
     "duration": 5.051261,
     "end_time": "2023-05-09T15:02:04.586565",
     "exception": false,
     "start_time": "2023-05-09T15:01:59.535304",
     "status": "completed"
    },
    "tags": []
   },
   "source": [
    "## 5. Inference"
   ]
  },
  {
   "attachments": {},
   "cell_type": "markdown",
   "metadata": {
    "id": "b6foowUKI6to",
    "papermill": {
     "duration": 5.12165,
     "end_time": "2023-05-09T15:02:14.968798",
     "exception": false,
     "start_time": "2023-05-09T15:02:09.847148",
     "status": "completed"
    },
    "tags": []
   },
   "source": [
    "## 5.1. Generating text"
   ]
  },
  {
   "cell_type": "code",
   "execution_count": 17,
   "metadata": {
    "execution": {
     "iopub.execute_input": "2023-05-09T15:02:25.864085Z",
     "iopub.status.busy": "2023-05-09T15:02:25.862301Z",
     "iopub.status.idle": "2023-05-09T15:02:25.864674Z",
     "shell.execute_reply": "2023-05-09T15:02:25.865113Z",
     "shell.execute_reply.started": "2023-05-09T10:17:40.442292Z"
    },
    "id": "_VodbDXNvMEk",
    "papermill": {
     "duration": 5.116649,
     "end_time": "2023-05-09T15:02:25.865248",
     "exception": false,
     "start_time": "2023-05-09T15:02:20.748599",
     "status": "completed"
    },
    "tags": []
   },
   "outputs": [],
   "source": [
    "def generate_text(model,seed,num_characters):\n",
    "  seed_text = tf.expand_dims([char2idx[k] for k in seed],0)\n",
    "  generated_text = []\n",
    "  model.reset_states()\n",
    "  for n in range(num_characters+1):\n",
    "    result = tf.random.categorical(model(seed_text)[0,-1:],num_samples=1)\n",
    "    result = result[0,0].numpy()\n",
    "    generated_text.append(result)\n",
    "    seed_text = tf.expand_dims([result],0)\n",
    "  return ''.join(idx2char[generated_text])"
   ]
  },
  {
   "cell_type": "code",
   "execution_count": 18,
   "metadata": {
    "execution": {
     "iopub.execute_input": "2023-05-09T15:02:46.337374Z",
     "iopub.status.busy": "2023-05-09T15:02:46.336432Z",
     "iopub.status.idle": "2023-05-09T15:02:49.727757Z",
     "shell.execute_reply": "2023-05-09T15:02:49.728175Z",
     "shell.execute_reply.started": "2023-05-09T10:17:40.452539Z"
    },
    "papermill": {
     "duration": 8.520277,
     "end_time": "2023-05-09T15:02:49.728315",
     "exception": false,
     "start_time": "2023-05-09T15:02:41.208038",
     "status": "completed"
    },
    "tags": []
   },
   "outputs": [
    {
     "name": "stdout",
     "output_type": "stream",
     "text": [
      "ould have a non-trivial feature in 4He and M7. Coordinates on high, very large (string tensions) can \n",
      "ould be such as s-wave components isolation coefficients. It is shown that the renoidal line flux dis\n",
      "ould be violated. It is singlet on the cohomological Bianchi identity suitable for appropriate entang\n",
      "ould be related against the Nu 327 scattered phase. In comparison to smaller values of the inhomogene\n",
      "owers on the evolution of one and the model, institutionalisticity of the phase transition and result\n"
     ]
    }
   ],
   "source": [
    "# Can the model guess obvious characters/words?\n",
    "seed = (\"This is a short string to test if the model knows what the next character sh\")\n",
    "for k in range(5):\n",
    "  temp = generate_text(model,seed,100)\n",
    "  print(temp)"
   ]
  },
  {
   "cell_type": "code",
   "execution_count": 19,
   "metadata": {
    "execution": {
     "iopub.execute_input": "2023-05-09T15:03:10.471900Z",
     "iopub.status.busy": "2023-05-09T15:03:10.471095Z",
     "iopub.status.idle": "2023-05-09T15:03:13.449100Z",
     "shell.execute_reply": "2023-05-09T15:03:13.448607Z",
     "shell.execute_reply.started": "2023-05-09T10:17:43.415687Z"
    },
    "id": "Iro1fFPAgPbL",
    "outputId": "9ed78332-bc79-4323-ddd7-b982293c1c49",
    "papermill": {
     "duration": 8.088736,
     "end_time": "2023-05-09T15:03:13.449277",
     "exception": false,
     "start_time": "2023-05-09T15:03:05.360541",
     "status": "completed"
    },
    "tags": []
   },
   "outputs": [
    {
     "name": "stdout",
     "output_type": "stream",
     "text": [
      "Theory (TQQ), which is very closed as 1-body approach in the precise approximation. The second one ha\n",
      "Isothermal Scalar Theories. We analyze the effect of the mass give rise to a\n",
      "\n",
      "quark interaction. The \n",
      "Theories based upon the inflationary dynamics derived from both complex and action-based algorithms. \n",
      "Theory within mass shifts therein. The generalized SU(3) approach uses the size of the related BCS th\n",
      "Theory (QC) when the overlap fermion bias for the corresponding H-hologrability lambda is given. Mode\n"
     ]
    }
   ],
   "source": [
    "# Can it guess obvious characters/words?\n",
    "seed = (\"This is a text about Quantum Field \")\n",
    "for k in range(5):\n",
    "  temp = generate_text(model,seed,100)\n",
    "  print(temp)"
   ]
  },
  {
   "cell_type": "code",
   "execution_count": 20,
   "metadata": {
    "execution": {
     "iopub.execute_input": "2023-05-09T15:03:24.293943Z",
     "iopub.status.busy": "2023-05-09T15:03:24.293106Z",
     "iopub.status.idle": "2023-05-09T15:03:27.390575Z",
     "shell.execute_reply": "2023-05-09T15:03:27.389653Z",
     "shell.execute_reply.started": "2023-05-09T10:17:46.390454Z"
    },
    "id": "ih8T9XmWpNg9",
    "outputId": "4c055ce8-6c59-4178-cb4f-e8a56ce38881",
    "papermill": {
     "duration": 8.480122,
     "end_time": "2023-05-09T15:03:27.390686",
     "exception": false,
     "start_time": "2023-05-09T15:03:18.910564",
     "status": "completed"
    },
    "tags": []
   },
   "outputs": [
    {
     "name": "stdout",
     "output_type": "stream",
     "text": [
      "Relativity (GR) by comparing the solutions of the Einstein-Maxwell equations Coulomb gas. The reactio\n",
      "Relativity as well as the arising specifications. Moreover, we used a new numerical method of finding\n",
      "Relativity (GR), a mystery model for galaxy brow holes can be identified to be catalogoed by distribu\n",
      "Relativity. Recently a loop correlation between the effective gravitino parameters for the Wilkinson \n",
      "Relativity (GR) in the redshift open bofts and show that a considerable interest is the mechanism in \n"
     ]
    }
   ],
   "source": [
    "# Can it guess obvious characters/words?\n",
    "seed = (\"Einstein introduced the theory of General \")\n",
    "for k in range(5):\n",
    "  temp = generate_text(model,seed,100)\n",
    "  print(temp)"
   ]
  },
  {
   "cell_type": "code",
   "execution_count": 21,
   "metadata": {
    "execution": {
     "iopub.execute_input": "2023-05-09T15:03:37.641561Z",
     "iopub.status.busy": "2023-05-09T15:03:37.640710Z",
     "iopub.status.idle": "2023-05-09T15:03:40.631715Z",
     "shell.execute_reply": "2023-05-09T15:03:40.630932Z",
     "shell.execute_reply.started": "2023-05-09T10:17:49.370294Z"
    },
    "id": "rMWKbJmFpks2",
    "outputId": "7400e8dd-348e-4427-8e76-37c2f091441e",
    "papermill": {
     "duration": 8.130106,
     "end_time": "2023-05-09T15:03:40.631823",
     "exception": false,
     "start_time": "2023-05-09T15:03:32.501717",
     "status": "completed"
    },
    "tags": []
   },
   "outputs": [
    {
     "name": "stdout",
     "output_type": "stream",
     "text": [
      "imposed to the one-dimensional optical parameter for cosmic structure formation by cooling substrates\n",
      "pattern in the development of mechanisms that undergo thermal compact super learning by Clay can be m\n",
      "made just mentioned above. As a consequence, the general distribution of the circuit collaboration an\n",
      "extended to negative fields, while the continuum dynamics provides a suitable react for $\\mathcal A_g\n",
      "found in a more general quantum critical point is impossible in the quasi-(multiplet) direction. Even\n"
     ]
    }
   ],
   "source": [
    "# Can it guess obvious characters/words?\n",
    "seed = (\"The results of the experiment indicate that the null hypothesis can be \")\n",
    "for k in range(5):\n",
    "  temp = generate_text(model,seed,100)\n",
    "  print(temp)"
   ]
  },
  {
   "cell_type": "code",
   "execution_count": 22,
   "metadata": {
    "execution": {
     "iopub.execute_input": "2023-05-09T15:03:51.507172Z",
     "iopub.status.busy": "2023-05-09T15:03:51.506234Z",
     "iopub.status.idle": "2023-05-09T15:03:54.541869Z",
     "shell.execute_reply": "2023-05-09T15:03:54.541401Z",
     "shell.execute_reply.started": "2023-05-09T10:17:52.403294Z"
    },
    "id": "TDuZuE60pwp_",
    "outputId": "a1296b18-7621-4c11-b525-d67b955f08e6",
    "papermill": {
     "duration": 8.782539,
     "end_time": "2023-05-09T15:03:54.542010",
     "exception": false,
     "start_time": "2023-05-09T15:03:45.759471",
     "status": "completed"
    },
    "tags": []
   },
   "outputs": [
    {
     "name": "stdout",
     "output_type": "stream",
     "text": [
      "single temperature coupling to the non-equilibrium fluid and in polarons. The approach has been used \n",
      "specific inflation energy, in attempt to find the strength of the fluxes of power Ising vectors on th\n",
      "an Efimov equation. On the context of computation, the simple framework for the Bell inequalities wit\n",
      "the height-dependent time. We use the linear operators to those for the ion description with the regr\n",
      "positive pi-pulsation depth transition, and we observe that $\\Delta_\\phi/\\mu$ vanishes (being the sol\n"
     ]
    }
   ],
   "source": [
    "# Can it guess obvious characters/words?\n",
    "seed = (\"The gradient of the potential is computed by taking the derivative of the field with \")\n",
    "for k in range(5):\n",
    "  temp = generate_text(model,seed,100)\n",
    "  print(temp)"
   ]
  },
  {
   "cell_type": "code",
   "execution_count": 23,
   "metadata": {
    "execution": {
     "iopub.execute_input": "2023-05-09T15:04:26.018645Z",
     "iopub.status.busy": "2023-05-09T15:04:26.017791Z",
     "iopub.status.idle": "2023-05-09T15:04:29.032012Z",
     "shell.execute_reply": "2023-05-09T15:04:29.031553Z",
     "shell.execute_reply.started": "2023-05-09T10:17:55.360660Z"
    },
    "id": "G0ylz6HcellL",
    "outputId": "a20248ea-8ed6-48d9-89d3-dd9c5c148982",
    "papermill": {
     "duration": 8.815814,
     "end_time": "2023-05-09T15:04:29.032162",
     "exception": false,
     "start_time": "2023-05-09T15:04:20.216348",
     "status": "completed"
    },
    "tags": []
   },
   "outputs": [
    {
     "name": "stdout",
     "output_type": "stream",
     "text": [
      "explore precise maps in LQC and the effective higher-dimensional theories with gauge-single-layer gra\n",
      "propose that the today in the primary mutant and on its cosmos? he found, and more and new research u\n",
      "present the results of a recent theory for the single particle optics model and the consideration of \n",
      "investigate the properties of the theory in the axial vertex NLK Fermi liquid where the cross section\n",
      "focus on the presence of quantum degenerate bosons with linear dilaton and to a non-homogeneous equiv\n"
     ]
    }
   ],
   "source": [
    "# A short seed text, not much context given\n",
    "seed = (\"Quantum field theory is the framework that describes physics at the \" \n",
    "        \"miscroscopic scale. In this paper, we \")\n",
    "for k in range(5):\n",
    "  temp = generate_text(model,seed,100)\n",
    "  print(temp)"
   ]
  },
  {
   "cell_type": "code",
   "execution_count": 24,
   "metadata": {
    "execution": {
     "iopub.execute_input": "2023-05-09T15:04:39.278926Z",
     "iopub.status.busy": "2023-05-09T15:04:39.278095Z",
     "iopub.status.idle": "2023-05-09T15:04:42.453227Z",
     "shell.execute_reply": "2023-05-09T15:04:42.452672Z",
     "shell.execute_reply.started": "2023-05-09T10:17:58.314320Z"
    },
    "id": "jibHi0D4ex-M",
    "outputId": "8e78d3ad-461c-4396-b9c7-948d5fd6fe4c",
    "papermill": {
     "duration": 8.204375,
     "end_time": "2023-05-09T15:04:42.453383",
     "exception": false,
     "start_time": "2023-05-09T15:04:34.249008",
     "status": "completed"
    },
    "tags": []
   },
   "outputs": [
    {
     "name": "stdout",
     "output_type": "stream",
     "text": [
      "propose a very simple and accurate-analytic expression based on avail observables of the mass generat\n",
      "show that the time-dependent Watson process measured in SU(2) lattice system reduces the equivalent-D\n",
      "picture the physical parameters of these consecutive quasars continue to model the information criter\n",
      "investigate estimates of the left handed numerical solutions of a fading asymmetry of the curvaton.\n",
      "\n",
      "\n",
      "prove the Dzyaloshinsky Theorem to show that SUSY is always ferromagnetic (and \"hail lattice) propert\n"
     ]
    }
   ],
   "source": [
    "# Medium-sized seed text, some context given\n",
    "seed = (\"Quantum field theory is the framework that describes physics at the \" \n",
    "        \"miscroscopic scale. General relativity, on the other hand, describes \"\n",
    "        \"dynamics of gravity across large distances. These two theories form \"\n",
    "        \"the state-of-the-art of human understanding of the universe. However, \"\n",
    "        \"the Standard Model and Einstein gravity are not compatible at the \"\n",
    "        \"quantum level. In this paper, we \")\n",
    "for k in range(5):\n",
    "  temp = generate_text(model,seed,100)\n",
    "  print(temp)"
   ]
  },
  {
   "cell_type": "code",
   "execution_count": 25,
   "metadata": {
    "execution": {
     "iopub.execute_input": "2023-05-09T15:04:52.851056Z",
     "iopub.status.busy": "2023-05-09T15:04:52.850175Z",
     "iopub.status.idle": "2023-05-09T15:04:56.879484Z",
     "shell.execute_reply": "2023-05-09T15:04:56.879870Z",
     "shell.execute_reply.started": "2023-05-09T10:18:01.425286Z"
    },
    "id": "ira1gC30fNkn",
    "outputId": "7a5f41de-51ba-4cc7-89d1-ba4d85c47f83",
    "papermill": {
     "duration": 9.177843,
     "end_time": "2023-05-09T15:04:56.880042",
     "exception": false,
     "start_time": "2023-05-09T15:04:47.702199",
     "status": "completed"
    },
    "tags": []
   },
   "outputs": [
    {
     "name": "stdout",
     "output_type": "stream",
     "text": [
      "a recent work of Bonn . For worldvoll scalar masses and atomic disturbances, we define a toy model wh\n",
      "the restriction that a bidirectional state has attracted long-standing information such as effective \n",
      "that possible mechanisms of the electromagnetic fields in these cores of chaos containing microscopic\n",
      "that the effect of spinless leptophobic nucleon numbers for photons interacting into the quark-gluon \n",
      "how statistical features reduce to the Nambu-Goto approximation (TBE) as a function of the Hubble rel\n"
     ]
    }
   ],
   "source": [
    "# Actual abstract from 2011.02926 minus the last sentence.\n",
    "seed = (\"We consider two fundamental long-standing problems in quantum \"\n",
    "        \"chromodynamics (QCD): the origin of color confinement and structure \"\n",
    "        \"of a true vacuum and color singlet quantum states. There is a common \"\n",
    "        \"belief that resolution to these problems needs a knowledge of a \"\n",
    "        \"strict non-perturbative quantum Yang-Mills theory and new ideas. \"\n",
    "        \"Our principal idea in resolving these problems is that structure of \"\n",
    "        \"color confinement and color singlet quantum states must be determined \"\n",
    "        \"by a Weyl symmetry which is an intrinsic symmetry of the Yang-Mills \"\n",
    "        \"gauge theory, and by properties of a selected class of solutions \"\n",
    "        \"satisfying special requirements. Following this idea we construct for \"\n",
    "        \"the first time a space of color singlet one particle quantum states \"\n",
    "        \"for primary colorless gluons and quarks and reveal the structure of \"\n",
    "        \"color confinement in quantum Yang-Mills theory. \"\n",
    "        \"As an application we demonstrate \")\n",
    "        # \"formation of physical observables in a pure QCD, pure glueballs.\")\n",
    "for k in range(5):\n",
    "  temp = generate_text(model,seed,100)\n",
    "  print(temp)"
   ]
  },
  {
   "cell_type": "code",
   "execution_count": 26,
   "metadata": {
    "execution": {
     "iopub.execute_input": "2023-05-09T15:05:28.413838Z",
     "iopub.status.busy": "2023-05-09T15:05:28.413285Z",
     "iopub.status.idle": "2023-05-09T15:05:31.472575Z",
     "shell.execute_reply": "2023-05-09T15:05:31.473023Z",
     "shell.execute_reply.started": "2023-05-09T10:18:04.917642Z"
    },
    "id": "-CqpVkJEfgIR",
    "outputId": "62ef955f-c7d7-48ad-f37e-3530b25a2b0e",
    "papermill": {
     "duration": 8.74975,
     "end_time": "2023-05-09T15:05:31.473160",
     "exception": false,
     "start_time": "2023-05-09T15:05:22.723410",
     "status": "completed"
    },
    "tags": []
   },
   "outputs": [
    {
     "name": "stdout",
     "output_type": "stream",
     "text": [
      "the restrictions immediately follows stochastically modelighth, while for cardiac/nimpinite policy, t\n",
      "of its neighbourhood or conditional simultaneous-diffusion network effects. In this work, we introduc\n",
      "there are data priorities to develop an interaction strategy of 98.5% with the DPL-axis exactly. Base\n",
      "it does in the field of measurements and other practical new practities of scientific tools, to obtai\n",
      "the variance variables are optimal. Based on the cut-off limits, we introduced some important fightin\n"
     ]
    }
   ],
   "source": [
    "# Unrelated string\n",
    "seed = (\"This string does not have to do with science at all, it's a text \"\n",
    "        \"about baby shark. Did you know baby shark is the most watched video \"\n",
    "        \"on Youtube as of November 2020? That is insane, this is because \")\n",
    "for k in range(5):\n",
    "  temp = generate_text(model,seed,100)\n",
    "  print(temp)"
   ]
  },
  {
   "cell_type": "code",
   "execution_count": 27,
   "metadata": {
    "execution": {
     "iopub.execute_input": "2023-05-09T15:05:52.281062Z",
     "iopub.status.busy": "2023-05-09T15:05:52.280228Z",
     "iopub.status.idle": "2023-05-09T15:05:55.383667Z",
     "shell.execute_reply": "2023-05-09T15:05:55.383180Z",
     "shell.execute_reply.started": "2023-05-09T10:18:07.960838Z"
    },
    "id": "vU6QoOU2fpGp",
    "outputId": "2ed03ec3-0d29-45c2-b7c1-af80504449bc",
    "papermill": {
     "duration": 8.339764,
     "end_time": "2023-05-09T15:05:55.383779",
     "exception": false,
     "start_time": "2023-05-09T15:05:47.044015",
     "status": "completed"
    },
    "tags": []
   },
   "outputs": [
    {
     "name": "stdout",
     "output_type": "stream",
     "text": [
      "lies Co^-1 (\\omega(c)--1\\ell+n - pl+1/2\\cho p|(|B^{-1\\leq k})^{-1,1} then u(x-1)=b \\lambda(K_{a+1)} x\n",
      "podes a proof la covers'' of then earlier software uses more recently analysis of the tempore extract\n",
      "tight for \\beta(s) ~ S_z\\to\\intrux(x,y).+\\infty < o(n-t))>0}, (2\\times \\pi(0,\\pi0)E\\} where $\\phi(x)$\n",
      "in considered a Rydberg or what it was the construction of quantum structures too remain directly fro\n",
      "certaines analytiquess undesiate posture and sums: one of Swissiness and Christ propositilils\" by R.\\\n"
     ]
    }
   ],
   "source": [
    "# Text in another language. The characters have structure (word and sentences) \n",
    "# but the model has never seen these combinations before\n",
    "seed = (\"Este texto esta escrito en otro idioma que el modelo no ha aprendido, \"\n",
    "        \"veamos que pasa si recibe estas palabras raras que no existen en \"\n",
    "        \"ingles. Lo que el modelo predice es que \")\n",
    "for k in range(5):\n",
    "  temp = generate_text(model,seed,100)\n",
    "  print(temp)"
   ]
  },
  {
   "cell_type": "code",
   "execution_count": 28,
   "metadata": {
    "execution": {
     "iopub.execute_input": "2023-05-09T15:06:16.520605Z",
     "iopub.status.busy": "2023-05-09T15:06:16.519752Z",
     "iopub.status.idle": "2023-05-09T15:06:19.497215Z",
     "shell.execute_reply": "2023-05-09T15:06:19.496672Z",
     "shell.execute_reply.started": "2023-05-09T10:18:11.495687Z"
    },
    "id": "xpac9nPpf4yk",
    "outputId": "e9f49afc-3727-4c6f-9f36-94c6d8c0e5f0",
    "papermill": {
     "duration": 8.114068,
     "end_time": "2023-05-09T15:06:19.497336",
     "exception": false,
     "start_time": "2023-05-09T15:06:11.383268",
     "status": "completed"
    },
    "tags": []
   },
   "outputs": [
    {
     "name": "stdout",
     "output_type": "stream",
     "text": [
      "ov] +0865876 (2008), xi3736 sd and P5-84. We identify 50 galaxies at z=0.435 and z=2.229, mizicirium \n",
      "0]\n",
      "\n",
      "  Pico-type structure using a long-hoc tight current in the vibrational moduli of the underlying \n",
      "mer.org/oSpectical/IRAC-43], using identically defined [R. Phys. Phys. B 66, 166105 (2006)], whose ro\n",
      "ilobent consistent with Kolmogorov coincide with the original results of Moree.\n",
      "\n",
      "  In the work we tak\n",
      "ek].5716ux.1756. BnK-BOAM/CRD images and simulated spectra as a function of environment; constant bra\n"
     ]
    }
   ],
   "source": [
    "# Gibberish\n",
    "seed = (\"m0n923h lxnaefpw;'[kdawpe_dlen;a[ak[k] [';jd0389hufw\")\n",
    "for k in range(5):\n",
    "  temp = generate_text(model,seed,100)\n",
    "  print(temp)"
   ]
  },
  {
   "cell_type": "code",
   "execution_count": 29,
   "metadata": {
    "execution": {
     "iopub.execute_input": "2023-05-09T15:06:40.637765Z",
     "iopub.status.busy": "2023-05-09T15:06:40.636705Z",
     "iopub.status.idle": "2023-05-09T15:06:43.622585Z",
     "shell.execute_reply": "2023-05-09T15:06:43.622115Z",
     "shell.execute_reply.started": "2023-05-09T10:18:14.719810Z"
    },
    "id": "U4UEjN_7gkPX",
    "outputId": "e3dc353e-c5e6-4d6d-9e80-bd389ecde515",
    "papermill": {
     "duration": 8.075926,
     "end_time": "2023-05-09T15:06:43.622700",
     "exception": false,
     "start_time": "2023-05-09T15:06:35.546774",
     "status": "completed"
    },
    "tags": []
   },
   "outputs": [
    {
     "name": "stdout",
     "output_type": "stream",
     "text": [
      ". Agreement is found for light absorbers of HCN, simy-line, expansions, and linewied CMB modulation s\n",
      " with a quasi-local correlation between the mean and the nonequilibrium classes of full gapped select\n",
      "ing in any medium in paramagnetic axis. A simple and unified method with general mean-field treatment\n",
      ". This protocol appears to be experiencing a new solution. Generally, we examine efficient two-parame\n",
      " for the Burgers equation and bounded symmetries for the iterated problem.\n",
      "\n",
      "  In reverberation we obt\n"
     ]
    }
   ],
   "source": [
    "# Does it know how to use question marks?\n",
    "seed = (\"Can naked singularities exist\")\n",
    "for k in range(5):\n",
    "  temp = generate_text(model,seed,100)\n",
    "  print(temp)"
   ]
  },
  {
   "cell_type": "code",
   "execution_count": 30,
   "metadata": {
    "execution": {
     "iopub.execute_input": "2023-05-09T15:07:15.212928Z",
     "iopub.status.busy": "2023-05-09T15:07:15.212056Z",
     "iopub.status.idle": "2023-05-09T15:07:21.321181Z",
     "shell.execute_reply": "2023-05-09T15:07:21.319825Z",
     "shell.execute_reply.started": "2023-05-09T10:18:38.470234Z"
    },
    "id": "2sqpWJlH1dRK",
    "papermill": {
     "duration": 11.230707,
     "end_time": "2023-05-09T15:07:21.321303",
     "exception": false,
     "start_time": "2023-05-09T15:07:10.090596",
     "status": "completed"
    },
    "tags": []
   },
   "outputs": [],
   "source": [
    "# Actual abstract from 2011.02926 minus the last sentence.\n",
    "seed = (\"We consider two fundamental long-standing problems in quantum \"\n",
    "        \"chromodynamics (QCD): the origin of color confinement and structure \"\n",
    "        \"of a true vacuum and color singlet quantum states. There is a common \"\n",
    "        \"belief that resolution to these problems needs a knowledge of a \"\n",
    "        \"strict non-perturbative quantum Yang-Mills theory and new ideas. \"\n",
    "        \"Our principal idea in resolving these problems is that structure of \"\n",
    "        \"color confinement and color singlet quantum states must be determined \"\n",
    "        \"by a Weyl symmetry which is an intrinsic symmetry of the Yang-Mills \"\n",
    "        \"gauge theory, and by properties of a selected class of solutions \"\n",
    "        \"satisfying special requirements. Following this idea we construct for \"\n",
    "        \"the first time a space of color singlet one particle quantum states \"\n",
    "        \"for primary colorless gluons and quarks and reveal the structure of \"\n",
    "        \"color confinement in quantum Yang-Mills theory. \"\n",
    "        \"As an application we demonstrate \")\n",
    "        # \"formation of physical observables in a pure QCD, pure glueballs.\")\n",
    "temp = generate_text(model,seed,1000)"
   ]
  },
  {
   "cell_type": "code",
   "execution_count": 31,
   "metadata": {
    "execution": {
     "iopub.execute_input": "2023-05-09T15:07:31.960424Z",
     "iopub.status.busy": "2023-05-09T15:07:31.959534Z",
     "iopub.status.idle": "2023-05-09T15:07:31.963756Z",
     "shell.execute_reply": "2023-05-09T15:07:31.961131Z",
     "shell.execute_reply.started": "2023-05-09T10:18:56.847144Z"
    },
    "id": "tA7jqfp42C49",
    "outputId": "269e830d-0c70-47d5-dbea-95548ec6e5e3",
    "papermill": {
     "duration": 5.611351,
     "end_time": "2023-05-09T15:07:31.963891",
     "exception": false,
     "start_time": "2023-05-09T15:07:26.352540",
     "status": "completed"
    },
    "tags": []
   },
   "outputs": [
    {
     "name": "stdout",
     "output_type": "stream",
     "text": [
      "that, although the excess phase interacts rapidly that a long distance bipolar\n",
      "outflow is simplified, the index of all the symmetry associated to the\n",
      "collisional boson Hushninskys operator of any photon wavelength appears in the\n",
      "avalanche properties of a frequency-independent scrature.    We study the\n",
      "spinons and chemical potentials of molecules maps of a 'FeII envelope maskless\n",
      "ring. These solitons together with temperature between them are determined by\n",
      "the temperature interaction. When there are much too weak reshities. This is the\n",
      "first case in oscillators in which they can be antiverlear.    The measurement\n",
      "of light and neutral partons status for the growth of neutrino effects is\n",
      "explored in this work. We expect the exotic-0 asymmetry of the uncoupled\n",
      "resonatorrass in BABs containing two of the substantial nuclear-mass generator\n",
      "and the 3sigma plates in Deuterio tiltes and derive the rates of the Two Theorem\n",
      "of ICTs. Also a novel nonlinear dynamical scaling architecture allowing th\n"
     ]
    }
   ],
   "source": [
    "import textwrap\n",
    "print(textwrap.fill(temp,80))"
   ]
  },
  {
   "cell_type": "code",
   "execution_count": 32,
   "metadata": {
    "execution": {
     "iopub.execute_input": "2023-05-09T15:07:52.738056Z",
     "iopub.status.busy": "2023-05-09T15:07:52.737319Z",
     "iopub.status.idle": "2023-05-09T15:07:53.006749Z",
     "shell.execute_reply": "2023-05-09T15:07:53.006185Z",
     "shell.execute_reply.started": "2023-05-09T10:18:17.676600Z"
    },
    "id": "1KrMcgbnB2hb",
    "outputId": "9d9a5404-e50a-477a-ec23-8fafb3cd0427",
    "papermill": {
     "duration": 5.42605,
     "end_time": "2023-05-09T15:07:53.006899",
     "exception": true,
     "start_time": "2023-05-09T15:07:47.580849",
     "status": "failed"
    },
    "tags": []
   },
   "outputs": [
    {
     "ename": "KeyError",
     "evalue": "'ñ'",
     "output_type": "error",
     "traceback": [
      "\u001b[0;31m---------------------------------------------------------------------------\u001b[0m",
      "\u001b[0;31mKeyError\u001b[0m                                  Traceback (most recent call last)",
      "\u001b[0;32m<ipython-input-32-c803ccba128f>\u001b[0m in \u001b[0;36m<module>\u001b[0;34m\u001b[0m\n\u001b[1;32m      3\u001b[0m         \"ñ, what will the model do? It predicts the following, \")\n\u001b[1;32m      4\u001b[0m \u001b[0;32mfor\u001b[0m \u001b[0mk\u001b[0m \u001b[0;32min\u001b[0m \u001b[0mrange\u001b[0m\u001b[0;34m(\u001b[0m\u001b[0;36m5\u001b[0m\u001b[0;34m)\u001b[0m\u001b[0;34m:\u001b[0m\u001b[0;34m\u001b[0m\u001b[0;34m\u001b[0m\u001b[0m\n\u001b[0;32m----> 5\u001b[0;31m   \u001b[0mtemp\u001b[0m \u001b[0;34m=\u001b[0m \u001b[0mgenerate_text\u001b[0m\u001b[0;34m(\u001b[0m\u001b[0mmodel\u001b[0m\u001b[0;34m,\u001b[0m\u001b[0mseed\u001b[0m\u001b[0;34m,\u001b[0m\u001b[0;36m100\u001b[0m\u001b[0;34m)\u001b[0m\u001b[0;34m\u001b[0m\u001b[0;34m\u001b[0m\u001b[0m\n\u001b[0m\u001b[1;32m      6\u001b[0m   \u001b[0mprint\u001b[0m\u001b[0;34m(\u001b[0m\u001b[0mtemp\u001b[0m\u001b[0;34m)\u001b[0m\u001b[0;34m\u001b[0m\u001b[0;34m\u001b[0m\u001b[0m\n",
      "\u001b[0;32m<ipython-input-17-25a8387b9cbb>\u001b[0m in \u001b[0;36mgenerate_text\u001b[0;34m(model, seed, num_characters)\u001b[0m\n\u001b[1;32m      1\u001b[0m \u001b[0;32mdef\u001b[0m \u001b[0mgenerate_text\u001b[0m\u001b[0;34m(\u001b[0m\u001b[0mmodel\u001b[0m\u001b[0;34m,\u001b[0m\u001b[0mseed\u001b[0m\u001b[0;34m,\u001b[0m\u001b[0mnum_characters\u001b[0m\u001b[0;34m)\u001b[0m\u001b[0;34m:\u001b[0m\u001b[0;34m\u001b[0m\u001b[0;34m\u001b[0m\u001b[0m\n\u001b[0;32m----> 2\u001b[0;31m   \u001b[0mseed_text\u001b[0m \u001b[0;34m=\u001b[0m \u001b[0mtf\u001b[0m\u001b[0;34m.\u001b[0m\u001b[0mexpand_dims\u001b[0m\u001b[0;34m(\u001b[0m\u001b[0;34m[\u001b[0m\u001b[0mchar2idx\u001b[0m\u001b[0;34m[\u001b[0m\u001b[0mk\u001b[0m\u001b[0;34m]\u001b[0m \u001b[0;32mfor\u001b[0m \u001b[0mk\u001b[0m \u001b[0;32min\u001b[0m \u001b[0mseed\u001b[0m\u001b[0;34m]\u001b[0m\u001b[0;34m,\u001b[0m\u001b[0;36m0\u001b[0m\u001b[0;34m)\u001b[0m\u001b[0;34m\u001b[0m\u001b[0;34m\u001b[0m\u001b[0m\n\u001b[0m\u001b[1;32m      3\u001b[0m   \u001b[0mgenerated_text\u001b[0m \u001b[0;34m=\u001b[0m \u001b[0;34m[\u001b[0m\u001b[0;34m]\u001b[0m\u001b[0;34m\u001b[0m\u001b[0;34m\u001b[0m\u001b[0m\n\u001b[1;32m      4\u001b[0m   \u001b[0mmodel\u001b[0m\u001b[0;34m.\u001b[0m\u001b[0mreset_states\u001b[0m\u001b[0;34m(\u001b[0m\u001b[0;34m)\u001b[0m\u001b[0;34m\u001b[0m\u001b[0;34m\u001b[0m\u001b[0m\n\u001b[1;32m      5\u001b[0m   \u001b[0;32mfor\u001b[0m \u001b[0mn\u001b[0m \u001b[0;32min\u001b[0m \u001b[0mrange\u001b[0m\u001b[0;34m(\u001b[0m\u001b[0mnum_characters\u001b[0m\u001b[0;34m+\u001b[0m\u001b[0;36m1\u001b[0m\u001b[0;34m)\u001b[0m\u001b[0;34m:\u001b[0m\u001b[0;34m\u001b[0m\u001b[0;34m\u001b[0m\u001b[0m\n",
      "\u001b[0;32m<ipython-input-17-25a8387b9cbb>\u001b[0m in \u001b[0;36m<listcomp>\u001b[0;34m(.0)\u001b[0m\n\u001b[1;32m      1\u001b[0m \u001b[0;32mdef\u001b[0m \u001b[0mgenerate_text\u001b[0m\u001b[0;34m(\u001b[0m\u001b[0mmodel\u001b[0m\u001b[0;34m,\u001b[0m\u001b[0mseed\u001b[0m\u001b[0;34m,\u001b[0m\u001b[0mnum_characters\u001b[0m\u001b[0;34m)\u001b[0m\u001b[0;34m:\u001b[0m\u001b[0;34m\u001b[0m\u001b[0;34m\u001b[0m\u001b[0m\n\u001b[0;32m----> 2\u001b[0;31m   \u001b[0mseed_text\u001b[0m \u001b[0;34m=\u001b[0m \u001b[0mtf\u001b[0m\u001b[0;34m.\u001b[0m\u001b[0mexpand_dims\u001b[0m\u001b[0;34m(\u001b[0m\u001b[0;34m[\u001b[0m\u001b[0mchar2idx\u001b[0m\u001b[0;34m[\u001b[0m\u001b[0mk\u001b[0m\u001b[0;34m]\u001b[0m \u001b[0;32mfor\u001b[0m \u001b[0mk\u001b[0m \u001b[0;32min\u001b[0m \u001b[0mseed\u001b[0m\u001b[0;34m]\u001b[0m\u001b[0;34m,\u001b[0m\u001b[0;36m0\u001b[0m\u001b[0;34m)\u001b[0m\u001b[0;34m\u001b[0m\u001b[0;34m\u001b[0m\u001b[0m\n\u001b[0m\u001b[1;32m      3\u001b[0m   \u001b[0mgenerated_text\u001b[0m \u001b[0;34m=\u001b[0m \u001b[0;34m[\u001b[0m\u001b[0;34m]\u001b[0m\u001b[0;34m\u001b[0m\u001b[0;34m\u001b[0m\u001b[0m\n\u001b[1;32m      4\u001b[0m   \u001b[0mmodel\u001b[0m\u001b[0;34m.\u001b[0m\u001b[0mreset_states\u001b[0m\u001b[0;34m(\u001b[0m\u001b[0;34m)\u001b[0m\u001b[0;34m\u001b[0m\u001b[0;34m\u001b[0m\u001b[0m\n\u001b[1;32m      5\u001b[0m   \u001b[0;32mfor\u001b[0m \u001b[0mn\u001b[0m \u001b[0;32min\u001b[0m \u001b[0mrange\u001b[0m\u001b[0;34m(\u001b[0m\u001b[0mnum_characters\u001b[0m\u001b[0;34m+\u001b[0m\u001b[0;36m1\u001b[0m\u001b[0;34m)\u001b[0m\u001b[0;34m:\u001b[0m\u001b[0;34m\u001b[0m\u001b[0;34m\u001b[0m\u001b[0m\n",
      "\u001b[0;31mKeyError\u001b[0m: 'ñ'"
     ]
    }
   ],
   "source": [
    "# OOV test\n",
    "seed = (\"This string contains a character out of vocabulary, the character \"\n",
    "        \"ñ, what will the model do? It predicts the following, \")\n",
    "for k in range(5):\n",
    "  temp = generate_text(model,seed,100)\n",
    "  print(temp)"
   ]
  }
 ],
 "metadata": {
  "kernelspec": {
   "display_name": "Python 3",
   "language": "python",
   "name": "python3"
  },
  "language_info": {
   "codemirror_mode": {
    "name": "ipython",
    "version": 3
   },
   "file_extension": ".py",
   "mimetype": "text/x-python",
   "name": "python",
   "nbconvert_exporter": "python",
   "pygments_lexer": "ipython3",
   "version": "3.7.6"
  },
  "papermill": {
   "duration": 11644.975163,
   "end_time": "2023-05-09T15:07:58.324737",
   "environment_variables": {},
   "exception": true,
   "input_path": "__notebook__.ipynb",
   "output_path": "__notebook__.ipynb",
   "parameters": {},
   "start_time": "2023-05-09T11:53:53.349574",
   "version": "2.1.0"
  }
 },
 "nbformat": 4,
 "nbformat_minor": 4
}
