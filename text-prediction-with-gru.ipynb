{
 "cells": [
  {
   "attachments": {},
   "cell_type": "markdown",
   "metadata": {
    "id": "pRG0kLuDx7ik",
    "papermill": {
     "duration": 0.024418,
     "end_time": "2023-05-09T10:41:55.581184",
     "exception": false,
     "start_time": "2023-05-09T10:41:55.556766",
     "status": "completed"
    },
    "tags": []
   },
   "source": [
    "## 1. import and Load dataset"
   ]
  },
  {
   "cell_type": "code",
   "execution_count": 1,
   "metadata": {
    "execution": {
     "iopub.execute_input": "2023-05-09T10:41:55.633829Z",
     "iopub.status.busy": "2023-05-09T10:41:55.633110Z",
     "iopub.status.idle": "2023-05-09T10:41:55.635970Z",
     "shell.execute_reply": "2023-05-09T10:41:55.635399Z",
     "shell.execute_reply.started": "2023-05-09T09:59:33.868841Z"
    },
    "id": "oFB7mSaapad_",
    "papermill": {
     "duration": 0.031607,
     "end_time": "2023-05-09T10:41:55.636069",
     "exception": false,
     "start_time": "2023-05-09T10:41:55.604462",
     "status": "completed"
    },
    "tags": []
   },
   "outputs": [],
   "source": [
    "import json\n",
    "import re\n",
    "import string\n",
    "import itertools\n",
    "import numpy as np"
   ]
  },
  {
   "cell_type": "code",
   "execution_count": 2,
   "metadata": {
    "execution": {
     "iopub.execute_input": "2023-05-09T10:41:55.687567Z",
     "iopub.status.busy": "2023-05-09T10:41:55.686828Z",
     "iopub.status.idle": "2023-05-09T10:41:55.689784Z",
     "shell.execute_reply": "2023-05-09T10:41:55.689278Z",
     "shell.execute_reply.started": "2023-05-09T09:59:33.898834Z"
    },
    "id": "qP5tYUlMrDtj",
    "papermill": {
     "duration": 0.030339,
     "end_time": "2023-05-09T10:41:55.689906",
     "exception": false,
     "start_time": "2023-05-09T10:41:55.659567",
     "status": "completed"
    },
    "tags": []
   },
   "outputs": [],
   "source": [
    "vocab = [n for n in string.printable]\n",
    "vocab_size = len(vocab)\n",
    "char2idx = {v:idx for idx,v in enumerate(vocab)}\n",
    "idx2char= np.array(vocab)"
   ]
  },
  {
   "cell_type": "code",
   "execution_count": 3,
   "metadata": {
    "execution": {
     "iopub.execute_input": "2023-05-09T10:41:55.740711Z",
     "iopub.status.busy": "2023-05-09T10:41:55.740165Z",
     "iopub.status.idle": "2023-05-09T10:41:55.754375Z",
     "shell.execute_reply": "2023-05-09T10:41:55.753960Z",
     "shell.execute_reply.started": "2023-05-09T09:59:33.907157Z"
    },
    "id": "C1n6iQQohan4",
    "papermill": {
     "duration": 0.04122,
     "end_time": "2023-05-09T10:41:55.754474",
     "exception": false,
     "start_time": "2023-05-09T10:41:55.713254",
     "status": "completed"
    },
    "tags": []
   },
   "outputs": [],
   "source": [
    "gen_json = (json.loads(line) for line in itertools.islice(open('/kaggle/input/arxiv/arxiv-metadata-oai-snapshot.json','r'),10))\n",
    "temp = []\n",
    "for line in gen_json:\n",
    "  temp.append(line['abstract'])"
   ]
  },
  {
   "cell_type": "code",
   "execution_count": 4,
   "metadata": {
    "execution": {
     "iopub.execute_input": "2023-05-09T10:41:55.805432Z",
     "iopub.status.busy": "2023-05-09T10:41:55.804917Z",
     "iopub.status.idle": "2023-05-09T10:41:55.809993Z",
     "shell.execute_reply": "2023-05-09T10:41:55.809393Z",
     "shell.execute_reply.started": "2023-05-09T09:59:33.950199Z"
    },
    "id": "nehh6-cSAzxS",
    "outputId": "4c3a49fe-a0be-43d1-a187-c60dfd5c35c4",
    "papermill": {
     "duration": 0.032518,
     "end_time": "2023-05-09T10:41:55.810108",
     "exception": false,
     "start_time": "2023-05-09T10:41:55.777590",
     "status": "completed"
    },
    "tags": []
   },
   "outputs": [
    {
     "data": {
      "text/plain": [
       "'  A fully differential calculation in perturbative quantum chromodynamics is\\npresented for the production of massive photon pairs at hadron colliders. All\\nnext-to-leading order perturbative contributions from quark-antiquark,\\ngluon-(anti)quark, and gluon-gluon subprocesses are included, as well as\\nall-orders resummation of initial-state gluon radiation valid at\\nnext-to-next-to-leading logarithmic accuracy. The region of phase space is\\nspecified in which the calculation is most reliable. Good agreement is\\ndemonstrated with data from the Fermilab Tevatron, and predictions are made for\\nmore detailed tests with CDF and DO data. Predictions are shown for\\ndistributions of diphoton pairs produced at the energy of the Large Hadron\\nCollider (LHC). Distributions of the diphoton pairs from the decay of a Higgs\\nboson are contrasted with those produced from QCD processes at the LHC, showing\\nthat enhanced sensitivity to the signal can be obtained with judicious\\nselection of events.\\n'"
      ]
     },
     "execution_count": 4,
     "metadata": {},
     "output_type": "execute_result"
    }
   ],
   "source": [
    "temp[0]"
   ]
  },
  {
   "cell_type": "code",
   "execution_count": 5,
   "metadata": {
    "execution": {
     "iopub.execute_input": "2023-05-09T10:41:55.866358Z",
     "iopub.status.busy": "2023-05-09T10:41:55.865536Z",
     "iopub.status.idle": "2023-05-09T10:42:32.030172Z",
     "shell.execute_reply": "2023-05-09T10:42:32.030684Z",
     "shell.execute_reply.started": "2023-05-09T09:59:33.989033Z"
    },
    "id": "jio4dktzrHZW",
    "papermill": {
     "duration": 36.195826,
     "end_time": "2023-05-09T10:42:32.030821",
     "exception": false,
     "start_time": "2023-05-09T10:41:55.834995",
     "status": "completed"
    },
    "tags": []
   },
   "outputs": [],
   "source": [
    "num_examples = 100000\n",
    "gen_json = (json.loads(line) for line in itertools.islice(open('/kaggle/input/arxiv/arxiv-metadata-oai-snapshot.json','r'),num_examples))\n",
    "abs_list = []\n",
    "for line in gen_json:\n",
    "  abs = line['abstract']\n",
    "  abs = re.sub(r'(\\S)\\s+(\\S)',r'\\1 \\2',abs).replace('\\n','\\n\\n')\n",
    "  abs = abs.replace('â\\x80\\x99',\"'\")\n",
    "  abs = abs.replace('\\x7f',\"\")\n",
    "  abs = abs.replace('â\\x88\\x9e',\"'\")\n",
    "  abs = abs.replace('â\\x89¤',\"'\")\n",
    "  abs = abs.replace('â\\x80\\x94',\"'\")\n",
    "  abs = abs.replace('â\\x80\\x93',\"-\")\n",
    "  for k in abs:\n",
    "    abs_list.append(char2idx[k])\n",
    "\n",
    "abs_list = np.array(abs_list)"
   ]
  },
  {
   "cell_type": "code",
   "execution_count": 6,
   "metadata": {
    "execution": {
     "iopub.execute_input": "2023-05-09T10:42:32.080998Z",
     "iopub.status.busy": "2023-05-09T10:42:32.080221Z",
     "iopub.status.idle": "2023-05-09T10:42:32.083416Z",
     "shell.execute_reply": "2023-05-09T10:42:32.083966Z",
     "shell.execute_reply.started": "2023-05-09T09:59:37.748455Z"
    },
    "id": "E9B3doGEsHcM",
    "outputId": "1e930336-1305-4b33-c305-b1657adfc0fe",
    "papermill": {
     "duration": 0.030071,
     "end_time": "2023-05-09T10:42:32.084091",
     "exception": false,
     "start_time": "2023-05-09T10:42:32.054020",
     "status": "completed"
    },
    "tags": []
   },
   "outputs": [
    {
     "data": {
      "text/plain": [
       "(80067818,)"
      ]
     },
     "execution_count": 6,
     "metadata": {},
     "output_type": "execute_result"
    }
   ],
   "source": [
    "abs_list.shape"
   ]
  },
  {
   "attachments": {},
   "cell_type": "markdown",
   "metadata": {
    "id": "-KaEL8yg5P2u",
    "papermill": {
     "duration": 0.02316,
     "end_time": "2023-05-09T10:42:32.130137",
     "exception": false,
     "start_time": "2023-05-09T10:42:32.106977",
     "status": "completed"
    },
    "tags": []
   },
   "source": [
    "## 3. Define the model"
   ]
  },
  {
   "cell_type": "code",
   "execution_count": 7,
   "metadata": {
    "execution": {
     "iopub.execute_input": "2023-05-09T10:42:32.181543Z",
     "iopub.status.busy": "2023-05-09T10:42:32.180834Z",
     "iopub.status.idle": "2023-05-09T10:42:36.789500Z",
     "shell.execute_reply": "2023-05-09T10:42:36.788494Z",
     "shell.execute_reply.started": "2023-05-09T09:59:37.759059Z"
    },
    "id": "ub1n16vGg57X",
    "papermill": {
     "duration": 4.636015,
     "end_time": "2023-05-09T10:42:36.789652",
     "exception": false,
     "start_time": "2023-05-09T10:42:32.153637",
     "status": "completed"
    },
    "tags": []
   },
   "outputs": [],
   "source": [
    "import os\n",
    "import tensorflow as tf\n",
    "from tensorflow.keras.models import Sequential\n",
    "from tensorflow.keras.layers import Embedding, LSTM, GRU, Dense"
   ]
  },
  {
   "cell_type": "code",
   "execution_count": 8,
   "metadata": {
    "execution": {
     "iopub.execute_input": "2023-05-09T10:42:39.174274Z",
     "iopub.status.busy": "2023-05-09T10:42:37.280476Z",
     "iopub.status.idle": "2023-05-09T10:42:39.258905Z",
     "shell.execute_reply": "2023-05-09T10:42:39.258180Z",
     "shell.execute_reply.started": "2023-05-09T09:59:39.400783Z"
    },
    "id": "bGNGAqJIonzC",
    "papermill": {
     "duration": 2.446,
     "end_time": "2023-05-09T10:42:39.259023",
     "exception": false,
     "start_time": "2023-05-09T10:42:36.813023",
     "status": "completed"
    },
    "tags": []
   },
   "outputs": [],
   "source": [
    "seq_len = 150\n",
    "batch_size = 256\n",
    "dataset = tf.data.Dataset.from_tensor_slices(abs_list)\n",
    "dataset = dataset.batch(seq_len+1,drop_remainder=True)\n",
    "dataset = dataset.map(lambda x: (x[:-1],x[1:]))\n",
    "dataset = dataset.shuffle(1000).batch(batch_size,drop_remainder=True)"
   ]
  },
  {
   "cell_type": "code",
   "execution_count": 9,
   "metadata": {
    "execution": {
     "iopub.execute_input": "2023-05-09T10:42:39.310856Z",
     "iopub.status.busy": "2023-05-09T10:42:39.310177Z",
     "iopub.status.idle": "2023-05-09T10:42:39.315348Z",
     "shell.execute_reply": "2023-05-09T10:42:39.314922Z",
     "shell.execute_reply.started": "2023-05-09T09:59:40.173471Z"
    },
    "id": "JK-g6gC3qa_4",
    "outputId": "45ab6037-049c-438e-cc7c-98924b5b87dd",
    "papermill": {
     "duration": 0.032784,
     "end_time": "2023-05-09T10:42:39.315461",
     "exception": false,
     "start_time": "2023-05-09T10:42:39.282677",
     "status": "completed"
    },
    "tags": []
   },
   "outputs": [
    {
     "data": {
      "text/plain": [
       "<BatchDataset shapes: ((256, 150), (256, 150)), types: (tf.int64, tf.int64)>"
      ]
     },
     "execution_count": 9,
     "metadata": {},
     "output_type": "execute_result"
    }
   ],
   "source": [
    "dataset"
   ]
  },
  {
   "cell_type": "code",
   "execution_count": 10,
   "metadata": {
    "execution": {
     "iopub.execute_input": "2023-05-09T10:42:39.369462Z",
     "iopub.status.busy": "2023-05-09T10:42:39.368695Z",
     "iopub.status.idle": "2023-05-09T10:42:39.370944Z",
     "shell.execute_reply": "2023-05-09T10:42:39.371423Z",
     "shell.execute_reply.started": "2023-05-09T09:59:40.187396Z"
    },
    "id": "edULLcPBsJ4J",
    "papermill": {
     "duration": 0.032416,
     "end_time": "2023-05-09T10:42:39.371558",
     "exception": false,
     "start_time": "2023-05-09T10:42:39.339142",
     "status": "completed"
    },
    "tags": []
   },
   "outputs": [],
   "source": [
    "def make_model(vocabulary_size,embedding_dimension,rnn_units,batch_size,stateful):\n",
    "  model = Sequential()\n",
    "  model.add(Embedding(vocabulary_size,embedding_dimension,\n",
    "                      batch_input_shape=[batch_size,None]))\n",
    "  model.add(GRU(rnn_units,return_sequences=True,stateful=stateful))\n",
    "  model.add(GRU(rnn_units,return_sequences=True,stateful=stateful))\n",
    "  model.add(Dense(vocabulary_size))\n",
    "  model.compile(loss=tf.keras.losses.SparseCategoricalCrossentropy(from_logits=True),\n",
    "                optimizer='adam',metrics=['accuracy'])\n",
    "  model.summary()\n",
    "  return model"
   ]
  },
  {
   "cell_type": "code",
   "execution_count": 11,
   "metadata": {
    "execution": {
     "iopub.execute_input": "2023-05-09T10:42:39.431630Z",
     "iopub.status.busy": "2023-05-09T10:42:39.430766Z",
     "iopub.status.idle": "2023-05-09T10:42:41.233639Z",
     "shell.execute_reply": "2023-05-09T10:42:41.232897Z",
     "shell.execute_reply.started": "2023-05-09T09:59:40.198063Z"
    },
    "id": "xiPJX15ws2el",
    "outputId": "1c57c2e6-3302-4a9d-846e-0d28b0fea646",
    "papermill": {
     "duration": 1.838599,
     "end_time": "2023-05-09T10:42:41.233809",
     "exception": false,
     "start_time": "2023-05-09T10:42:39.395210",
     "status": "completed"
    },
    "tags": []
   },
   "outputs": [
    {
     "name": "stdout",
     "output_type": "stream",
     "text": [
      "Model: \"sequential\"\n",
      "_________________________________________________________________\n",
      "Layer (type)                 Output Shape              Param #   \n",
      "=================================================================\n",
      "embedding (Embedding)        (256, None, 256)          25600     \n",
      "_________________________________________________________________\n",
      "gru (GRU)                    (256, None, 1024)         3938304   \n",
      "_________________________________________________________________\n",
      "gru_1 (GRU)                  (256, None, 1024)         6297600   \n",
      "_________________________________________________________________\n",
      "dense (Dense)                (256, None, 100)          102500    \n",
      "=================================================================\n",
      "Total params: 10,364,004\n",
      "Trainable params: 10,364,004\n",
      "Non-trainable params: 0\n",
      "_________________________________________________________________\n"
     ]
    }
   ],
   "source": [
    "emb_dim = 256\n",
    "rnn_units = 1024\n",
    "model = make_model(vocab_size,emb_dim,rnn_units,batch_size,False)"
   ]
  },
  {
   "attachments": {},
   "cell_type": "markdown",
   "metadata": {
    "id": "I-YgaB5QI_Xi",
    "papermill": {
     "duration": 0.024403,
     "end_time": "2023-05-09T10:42:41.282880",
     "exception": false,
     "start_time": "2023-05-09T10:42:41.258477",
     "status": "completed"
    },
    "tags": []
   },
   "source": [
    "## 4. Train the model"
   ]
  },
  {
   "cell_type": "code",
   "execution_count": 12,
   "metadata": {
    "execution": {
     "iopub.execute_input": "2023-05-09T10:42:41.336031Z",
     "iopub.status.busy": "2023-05-09T10:42:41.335266Z",
     "iopub.status.idle": "2023-05-09T10:42:41.337753Z",
     "shell.execute_reply": "2023-05-09T10:42:41.338220Z",
     "shell.execute_reply.started": "2023-05-09T09:59:41.970099Z"
    },
    "id": "7T8uDw8gtC2W",
    "papermill": {
     "duration": 0.031618,
     "end_time": "2023-05-09T10:42:41.338338",
     "exception": false,
     "start_time": "2023-05-09T10:42:41.306720",
     "status": "completed"
    },
    "tags": []
   },
   "outputs": [],
   "source": [
    "checkpoint_dir = '/kaggle/temp/'\n",
    "checkpoint_prefix = os.path.join(checkpoint_dir,'chkpt_{epoch}')\n",
    "checkpoint_callback = tf.keras.callbacks.ModelCheckpoint(checkpoint_prefix,\n",
    "                                                         save_weights_only=True)"
   ]
  },
  {
   "cell_type": "code",
   "execution_count": 13,
   "metadata": {
    "execution": {
     "iopub.execute_input": "2023-05-09T10:42:41.391233Z",
     "iopub.status.busy": "2023-05-09T10:42:41.390646Z",
     "iopub.status.idle": "2023-05-09T13:10:00.186218Z",
     "shell.execute_reply": "2023-05-09T13:10:00.170011Z",
     "shell.execute_reply.started": "2023-05-09T09:59:41.977873Z"
    },
    "papermill": {
     "duration": 8838.824079,
     "end_time": "2023-05-09T13:10:00.186389",
     "exception": false,
     "start_time": "2023-05-09T10:42:41.362310",
     "status": "completed"
    },
    "tags": []
   },
   "outputs": [
    {
     "name": "stdout",
     "output_type": "stream",
     "text": [
      "Epoch 1/10\n",
      "2071/2071 [==============================] - 876s 423ms/step - loss: 1.2426 - accuracy: 0.6382\n",
      "Epoch 2/10\n",
      "2071/2071 [==============================] - 876s 423ms/step - loss: 0.9852 - accuracy: 0.7055\n",
      "Epoch 3/10\n",
      "2071/2071 [==============================] - 885s 427ms/step - loss: 0.9486 - accuracy: 0.7155\n",
      "Epoch 4/10\n",
      "2071/2071 [==============================] - 879s 424ms/step - loss: 0.9310 - accuracy: 0.7203\n",
      "Epoch 5/10\n",
      "2071/2071 [==============================] - 881s 425ms/step - loss: 0.9210 - accuracy: 0.7229\n",
      "Epoch 6/10\n",
      "2071/2071 [==============================] - 887s 429ms/step - loss: 0.9147 - accuracy: 0.7246\n",
      "Epoch 7/10\n",
      "2071/2071 [==============================] - 888s 429ms/step - loss: 0.9107 - accuracy: 0.7257\n",
      "Epoch 8/10\n",
      "2071/2071 [==============================] - 883s 426ms/step - loss: 0.9080 - accuracy: 0.7263\n",
      "Epoch 9/10\n",
      "2071/2071 [==============================] - 879s 425ms/step - loss: 0.9066 - accuracy: 0.7267\n",
      "Epoch 10/10\n",
      "2071/2071 [==============================] - 886s 428ms/step - loss: 0.9057 - accuracy: 0.7269\n"
     ]
    },
    {
     "data": {
      "text/plain": [
       "<tensorflow.python.keras.callbacks.History at 0x7c58a6d49ed0>"
      ]
     },
     "execution_count": 13,
     "metadata": {},
     "output_type": "execute_result"
    }
   ],
   "source": [
    "model.fit(dataset,epochs=10,callbacks=[checkpoint_callback])"
   ]
  },
  {
   "cell_type": "code",
   "execution_count": 14,
   "metadata": {
    "execution": {
     "iopub.execute_input": "2023-05-09T13:10:10.611250Z",
     "iopub.status.busy": "2023-05-09T13:10:10.610378Z",
     "iopub.status.idle": "2023-05-09T13:10:10.616811Z",
     "shell.execute_reply": "2023-05-09T13:10:10.616245Z",
     "shell.execute_reply.started": "2023-05-09T10:14:35.045341Z"
    },
    "id": "oEee8WzFGNNm",
    "outputId": "9f1d640d-35eb-4285-80c7-959ebfb88391",
    "papermill": {
     "duration": 5.319254,
     "end_time": "2023-05-09T13:10:10.616939",
     "exception": false,
     "start_time": "2023-05-09T13:10:05.297685",
     "status": "completed"
    },
    "tags": []
   },
   "outputs": [
    {
     "data": {
      "text/plain": [
       "'/kaggle/temp/chkpt_10'"
      ]
     },
     "execution_count": 14,
     "metadata": {},
     "output_type": "execute_result"
    }
   ],
   "source": [
    "tf.train.latest_checkpoint(checkpoint_dir)"
   ]
  },
  {
   "cell_type": "code",
   "execution_count": 15,
   "metadata": {
    "execution": {
     "iopub.execute_input": "2023-05-09T13:10:20.982527Z",
     "iopub.status.busy": "2023-05-09T13:10:20.981662Z",
     "iopub.status.idle": "2023-05-09T13:10:22.491315Z",
     "shell.execute_reply": "2023-05-09T13:10:22.490759Z",
     "shell.execute_reply.started": "2023-05-09T10:14:35.066406Z"
    },
    "id": "R2XQoKCqvWFa",
    "outputId": "7720052f-f25b-4d08-cd20-0fd1aed6c50b",
    "papermill": {
     "duration": 6.760601,
     "end_time": "2023-05-09T13:10:22.491433",
     "exception": false,
     "start_time": "2023-05-09T13:10:15.730832",
     "status": "completed"
    },
    "tags": []
   },
   "outputs": [
    {
     "name": "stdout",
     "output_type": "stream",
     "text": [
      "Model: \"sequential_1\"\n",
      "_________________________________________________________________\n",
      "Layer (type)                 Output Shape              Param #   \n",
      "=================================================================\n",
      "embedding_1 (Embedding)      (1, None, 256)            25600     \n",
      "_________________________________________________________________\n",
      "gru_2 (GRU)                  (1, None, 1024)           3938304   \n",
      "_________________________________________________________________\n",
      "gru_3 (GRU)                  (1, None, 1024)           6297600   \n",
      "_________________________________________________________________\n",
      "dense_1 (Dense)              (1, None, 100)            102500    \n",
      "=================================================================\n",
      "Total params: 10,364,004\n",
      "Trainable params: 10,364,004\n",
      "Non-trainable params: 0\n",
      "_________________________________________________________________\n"
     ]
    }
   ],
   "source": [
    "model = make_model(vocab_size,emb_dim,rnn_units,1,True)\n",
    "model.load_weights(tf.train.latest_checkpoint(checkpoint_dir))\n",
    "model.build(tf.TensorShape([1,None]))"
   ]
  },
  {
   "attachments": {},
   "cell_type": "markdown",
   "metadata": {
    "id": "b6foowUKI6to",
    "papermill": {
     "duration": 5.287644,
     "end_time": "2023-05-09T13:10:33.280226",
     "exception": false,
     "start_time": "2023-05-09T13:10:27.992582",
     "status": "completed"
    },
    "tags": []
   },
   "source": [
    "## 5. Inference"
   ]
  },
  {
   "attachments": {},
   "cell_type": "markdown",
   "metadata": {
    "papermill": {
     "duration": 5.117945,
     "end_time": "2023-05-09T13:10:43.455257",
     "exception": false,
     "start_time": "2023-05-09T13:10:38.337312",
     "status": "completed"
    },
    "tags": []
   },
   "source": [
    "## 5.1 Generate Text and Analysis"
   ]
  },
  {
   "cell_type": "code",
   "execution_count": 16,
   "metadata": {
    "execution": {
     "iopub.execute_input": "2023-05-09T13:10:53.688353Z",
     "iopub.status.busy": "2023-05-09T13:10:53.687571Z",
     "iopub.status.idle": "2023-05-09T13:10:53.689962Z",
     "shell.execute_reply": "2023-05-09T13:10:53.690344Z",
     "shell.execute_reply.started": "2023-05-09T10:14:36.608806Z"
    },
    "id": "_VodbDXNvMEk",
    "papermill": {
     "duration": 5.213107,
     "end_time": "2023-05-09T13:10:53.690472",
     "exception": false,
     "start_time": "2023-05-09T13:10:48.477365",
     "status": "completed"
    },
    "tags": []
   },
   "outputs": [],
   "source": [
    "def generate_text(model,seed,num_characters):\n",
    "  seed_text = tf.expand_dims([char2idx[k] for k in seed],0)\n",
    "  generated_text = []\n",
    "  model.reset_states()\n",
    "  for n in range(num_characters+1):\n",
    "    result = tf.random.categorical(model(seed_text)[0,-1:],num_samples=1)\n",
    "    result = result[0,0].numpy()\n",
    "    generated_text.append(result)\n",
    "    seed_text = tf.expand_dims([result],0)\n",
    "  return ''.join(idx2char[generated_text])"
   ]
  },
  {
   "cell_type": "code",
   "execution_count": 17,
   "metadata": {
    "execution": {
     "iopub.execute_input": "2023-05-09T13:11:14.549386Z",
     "iopub.status.busy": "2023-05-09T13:11:14.548483Z",
     "iopub.status.idle": "2023-05-09T13:11:17.415321Z",
     "shell.execute_reply": "2023-05-09T13:11:17.414288Z",
     "shell.execute_reply.started": "2023-05-09T10:14:36.619961Z"
    },
    "papermill": {
     "duration": 7.85409,
     "end_time": "2023-05-09T13:11:17.415441",
     "exception": false,
     "start_time": "2023-05-09T13:11:09.561351",
     "status": "completed"
    },
    "tags": []
   },
   "outputs": [
    {
     "name": "stdout",
     "output_type": "stream",
     "text": [
      "ould appear in the mock sample observations or discs. We derive the rotational rate and 2\n",
      "\n",
      "sigma_v af\n",
      "ould be incoherent and transverse forms. In particular we show that the mentioned $\\kappa$-conceustio\n",
      "ould be discussed, which includes SN Ihagims, 14 counter's 'physical' understanding of protein operat\n",
      "ould improve from underdiption of the electronic structure and intermittency. In particular, we evalu\n",
      "ares a before the full distribution of the information control. On the other hand, just an order of m\n"
     ]
    }
   ],
   "source": [
    "# Can the model guess obvious characters/words?\n",
    "seed = (\"This is a short string to test if the model knows what the next character sh\")\n",
    "for k in range(5):\n",
    "  temp = generate_text(model,seed,100)\n",
    "  print(temp)"
   ]
  },
  {
   "cell_type": "code",
   "execution_count": 18,
   "metadata": {
    "execution": {
     "iopub.execute_input": "2023-05-09T13:11:38.478598Z",
     "iopub.status.busy": "2023-05-09T13:11:38.477425Z",
     "iopub.status.idle": "2023-05-09T13:11:41.240225Z",
     "shell.execute_reply": "2023-05-09T13:11:41.239672Z",
     "shell.execute_reply.started": "2023-05-09T10:14:39.404465Z"
    },
    "id": "Iro1fFPAgPbL",
    "outputId": "9ed78332-bc79-4323-ddd7-b982293c1c49",
    "papermill": {
     "duration": 8.039736,
     "end_time": "2023-05-09T13:11:41.240339",
     "exception": false,
     "start_time": "2023-05-09T13:11:33.200603",
     "status": "completed"
    },
    "tags": []
   },
   "outputs": [
    {
     "name": "stdout",
     "output_type": "stream",
     "text": [
      "Overhauser fields, which are applicable to all their similarities with CdW with arbitrarily fixed tra\n",
      "Wall states (DSWs) types, multiplied by one and two-loop type formalism to ball apply this test to a \n",
      "Theory (RCMT). In the second quasi twisted spin-I model, the mean-field range can be observed, as a f\n",
      "Theories using the pseudoconstant-coefficient kernel under the Liouville equation contrarely covered \n",
      "strength rather than the imposed beam energy.\n",
      "\n",
      "  It has not been under distance between the astroid s\n"
     ]
    }
   ],
   "source": [
    "# Can it guess obvious characters/words?\n",
    "seed = (\"This is a text about Quantum Field \")\n",
    "for k in range(5):\n",
    "  temp = generate_text(model,seed,100)\n",
    "  print(temp)"
   ]
  },
  {
   "cell_type": "code",
   "execution_count": 19,
   "metadata": {
    "execution": {
     "iopub.execute_input": "2023-05-09T13:11:51.564652Z",
     "iopub.status.busy": "2023-05-09T13:11:51.563788Z",
     "iopub.status.idle": "2023-05-09T13:11:54.329965Z",
     "shell.execute_reply": "2023-05-09T13:11:54.330733Z",
     "shell.execute_reply.started": "2023-05-09T10:14:42.238708Z"
    },
    "id": "ih8T9XmWpNg9",
    "outputId": "4c055ce8-6c59-4178-cb4f-e8a56ce38881",
    "papermill": {
     "duration": 7.995145,
     "end_time": "2023-05-09T13:11:54.330879",
     "exception": false,
     "start_time": "2023-05-09T13:11:46.335734",
     "status": "completed"
    },
    "tags": []
   },
   "outputs": [
    {
     "name": "stdout",
     "output_type": "stream",
     "text": [
      "Relativity approach, weak to an entry pattern of microstructure cavity to be effective representation\n",
      "Relativity VeckoVs (DGCs, quantum-Monte Carlo) calculations of the correlation band and at x-rappinic\n",
      "Relative Simon quantum geometry $W_1$ and $B_F$ in the three-dimensional link Pax segment. Several cr\n",
      "Relativity which almost Z = 2/8 extra dimensions and thus permits the first partitionetoist of better\n",
      "Relativity and a term predicted in the canonical countermets. We show that this in both theories show\n"
     ]
    }
   ],
   "source": [
    "# Can it guess obvious characters/words?\n",
    "seed = (\"Einstein introduced the theory of General \")\n",
    "for k in range(5):\n",
    "  temp = generate_text(model,seed,100)\n",
    "  print(temp)"
   ]
  },
  {
   "cell_type": "code",
   "execution_count": 20,
   "metadata": {
    "execution": {
     "iopub.execute_input": "2023-05-09T13:12:05.172585Z",
     "iopub.status.busy": "2023-05-09T13:12:05.171727Z",
     "iopub.status.idle": "2023-05-09T13:12:07.924883Z",
     "shell.execute_reply": "2023-05-09T13:12:07.925673Z",
     "shell.execute_reply.started": "2023-05-09T10:14:44.993514Z"
    },
    "id": "rMWKbJmFpks2",
    "outputId": "7400e8dd-348e-4427-8e76-37c2f091441e",
    "papermill": {
     "duration": 8.058259,
     "end_time": "2023-05-09T13:12:07.925853",
     "exception": false,
     "start_time": "2023-05-09T13:11:59.867594",
     "status": "completed"
    },
    "tags": []
   },
   "outputs": [
    {
     "name": "stdout",
     "output_type": "stream",
     "text": [
      "understood by applying scattering mechanism in isolationar to Repcohtarine in the brain. When the con\n",
      "very undising that the in-medised energy are calculated. At high temperatures, assuming this scatteri\n",
      "satisfulsed as a sequence of spin Hall effect, in particular that the averaged flow of waves escaled \n",
      "executed by the first point-probe program.\n",
      "\n",
      "  The chiral model leads to a phase transition parameter \n",
      "extended to various orders of magnitude in the interaction between them. Two new examples and mathema\n"
     ]
    }
   ],
   "source": [
    "# Can it guess obvious characters/words?\n",
    "seed = (\"The results of the experiment indicate that the null hypothesis can be \")\n",
    "for k in range(5):\n",
    "  temp = generate_text(model,seed,100)\n",
    "  print(temp)"
   ]
  },
  {
   "cell_type": "code",
   "execution_count": 21,
   "metadata": {
    "execution": {
     "iopub.execute_input": "2023-05-09T13:12:18.166320Z",
     "iopub.status.busy": "2023-05-09T13:12:18.165228Z",
     "iopub.status.idle": "2023-05-09T13:12:20.910678Z",
     "shell.execute_reply": "2023-05-09T13:12:20.911093Z",
     "shell.execute_reply.started": "2023-05-09T10:14:47.761857Z"
    },
    "id": "TDuZuE60pwp_",
    "outputId": "a1296b18-7621-4c11-b525-d67b955f08e6",
    "papermill": {
     "duration": 7.829319,
     "end_time": "2023-05-09T13:12:20.911230",
     "exception": false,
     "start_time": "2023-05-09T13:12:13.081911",
     "status": "completed"
    },
    "tags": []
   },
   "outputs": [
    {
     "name": "stdout",
     "output_type": "stream",
     "text": [
      "a vector meson-baryon density (where g=1) and its power \\cite{BRK}1 is a fundamental stationary state\n",
      "a growth of internal (>0.4 RM). The topology of the MDI in a general conventional analysis and applic\n",
      "an invariant Killing tensor. We maintine how single-layer readout systems has less strengthening the \n",
      "the diameter, and which cancel becomes observed compared to events. We conclude that direct measureme\n",
      "a discrete geometry of three or more sequences of p-percolations? As an additional scheme the develop\n"
     ]
    }
   ],
   "source": [
    "# Can it guess obvious characters/words?\n",
    "seed = (\"The gradient of the potential is computed by taking the derivative of the field with \")\n",
    "for k in range(5):\n",
    "  temp = generate_text(model,seed,100)\n",
    "  print(temp)"
   ]
  },
  {
   "cell_type": "code",
   "execution_count": 22,
   "metadata": {
    "execution": {
     "iopub.execute_input": "2023-05-09T13:12:52.251824Z",
     "iopub.status.busy": "2023-05-09T13:12:52.250955Z",
     "iopub.status.idle": "2023-05-09T13:12:55.159281Z",
     "shell.execute_reply": "2023-05-09T13:12:55.158373Z",
     "shell.execute_reply.started": "2023-05-09T10:14:50.477828Z"
    },
    "id": "G0ylz6HcellL",
    "outputId": "a20248ea-8ed6-48d9-89d3-dd9c5c148982",
    "papermill": {
     "duration": 7.992102,
     "end_time": "2023-05-09T13:12:55.159391",
     "exception": false,
     "start_time": "2023-05-09T13:12:47.167289",
     "status": "completed"
    },
    "tags": []
   },
   "outputs": [
    {
     "name": "stdout",
     "output_type": "stream",
     "text": [
      "phenomenology of low energy effective cardical states with one supercharacter as strongly five challe\n",
      "present a new procedure to change the probability of small values of the Higgs field changes as Kondo\n",
      "focus on the metabolic model in which we can also be applied for quantum electrodynamics (GEMD), corr\n",
      "extend these applications, two-state Monte Carlis methods based on the MLE likelihood) and (certain c\n",
      "consider a two spinning plasma per quanta (2D) and compare it to the one without ROS-biology.\n",
      "\n",
      "  We p\n"
     ]
    }
   ],
   "source": [
    "# A short seed text, not much context given\n",
    "seed = (\"Quantum field theory is the framework that describes physics at the \" \n",
    "        \"miscroscopic scale. In this paper, we \")\n",
    "for k in range(5):\n",
    "  temp = generate_text(model,seed,100)\n",
    "  print(temp)"
   ]
  },
  {
   "cell_type": "code",
   "execution_count": 23,
   "metadata": {
    "execution": {
     "iopub.execute_input": "2023-05-09T13:13:06.007258Z",
     "iopub.status.busy": "2023-05-09T13:13:06.006233Z",
     "iopub.status.idle": "2023-05-09T13:13:08.931295Z",
     "shell.execute_reply": "2023-05-09T13:13:08.931727Z",
     "shell.execute_reply.started": "2023-05-09T10:14:53.325561Z"
    },
    "id": "jibHi0D4ex-M",
    "outputId": "8e78d3ad-461c-4396-b9c7-948d5fd6fe4c",
    "papermill": {
     "duration": 8.647744,
     "end_time": "2023-05-09T13:13:08.931879",
     "exception": false,
     "start_time": "2023-05-09T13:13:00.284135",
     "status": "completed"
    },
    "tags": []
   },
   "outputs": [
    {
     "name": "stdout",
     "output_type": "stream",
     "text": [
      "analyse its predictive austraints. Remarkably, we find a fine theoretical property has a set of lower\n",
      "develop a new device configuration in sex-ray and short-range adipolar orthodox: Minformal Neutane, G\n",
      "give a detailed difference between Dunc equations, in this case, we propose an analysis sharpeh techn\n",
      "compare and calculate the peptide of the interfacear system to extend the volume and high Tc. We also\n",
      "extend this formalism to study quantum computation. It is shown that there are states of coalescing b\n"
     ]
    }
   ],
   "source": [
    "# Medium-sized seed text, some context given\n",
    "seed = (\"Quantum field theory is the framework that describes physics at the \" \n",
    "        \"miscroscopic scale. General relativity, on the other hand, describes \"\n",
    "        \"dynamics of gravity across large distances. These two theories form \"\n",
    "        \"the state-of-the-art of human understanding of the universe. However, \"\n",
    "        \"the Standard Model and Einstein gravity are not compatible at the \"\n",
    "        \"quantum level. In this paper, we \")\n",
    "for k in range(5):\n",
    "  temp = generate_text(model,seed,100)\n",
    "  print(temp)"
   ]
  },
  {
   "cell_type": "code",
   "execution_count": 24,
   "metadata": {
    "execution": {
     "iopub.execute_input": "2023-05-09T13:13:19.180583Z",
     "iopub.status.busy": "2023-05-09T13:13:19.179652Z",
     "iopub.status.idle": "2023-05-09T13:13:22.340922Z",
     "shell.execute_reply": "2023-05-09T13:13:22.341402Z",
     "shell.execute_reply.started": "2023-05-09T10:14:56.482573Z"
    },
    "id": "ira1gC30fNkn",
    "outputId": "7a5f41de-51ba-4cc7-89d1-ba4d85c47f83",
    "papermill": {
     "duration": 8.351286,
     "end_time": "2023-05-09T13:13:22.341572",
     "exception": false,
     "start_time": "2023-05-09T13:13:13.990286",
     "status": "completed"
    },
    "tags": []
   },
   "outputs": [
    {
     "name": "stdout",
     "output_type": "stream",
     "text": [
      "an effective artificial phase diagram with a dispersive environment between two subsearche' between t\n",
      "in the time dependence of which we show how the outcoupled Nodiographic (MC) conjugate special wave p\n",
      "that this analogy is very small correlation with the system mass ratio <= 1. Despite the generation o\n",
      "that this non-Gaussian equivalence test is not convenient, proving auxiliary strategies and  how some\n",
      "our estimates and densities satisfied by these results.\n",
      "\n",
      "  Pherication and spectral and local structu\n"
     ]
    }
   ],
   "source": [
    "# Actual abstract from 2011.02926 minus the last sentence.\n",
    "seed = (\"We consider two fundamental long-standing problems in quantum \"\n",
    "        \"chromodynamics (QCD): the origin of color confinement and structure \"\n",
    "        \"of a true vacuum and color singlet quantum states. There is a common \"\n",
    "        \"belief that resolution to these problems needs a knowledge of a \"\n",
    "        \"strict non-perturbative quantum Yang-Mills theory and new ideas. \"\n",
    "        \"Our principal idea in resolving these problems is that structure of \"\n",
    "        \"color confinement and color singlet quantum states must be determined \"\n",
    "        \"by a Weyl symmetry which is an intrinsic symmetry of the Yang-Mills \"\n",
    "        \"gauge theory, and by properties of a selected class of solutions \"\n",
    "        \"satisfying special requirements. Following this idea we construct for \"\n",
    "        \"the first time a space of color singlet one particle quantum states \"\n",
    "        \"for primary colorless gluons and quarks and reveal the structure of \"\n",
    "        \"color confinement in quantum Yang-Mills theory. \"\n",
    "        \"As an application we demonstrate \")\n",
    "        # \"formation of physical observables in a pure QCD, pure glueballs.\")\n",
    "for k in range(5):\n",
    "  temp = generate_text(model,seed,100)\n",
    "  print(temp)"
   ]
  },
  {
   "cell_type": "code",
   "execution_count": 25,
   "metadata": {
    "execution": {
     "iopub.execute_input": "2023-05-09T13:13:53.738587Z",
     "iopub.status.busy": "2023-05-09T13:13:53.737697Z",
     "iopub.status.idle": "2023-05-09T13:13:56.553541Z",
     "shell.execute_reply": "2023-05-09T13:13:56.552223Z",
     "shell.execute_reply.started": "2023-05-09T10:14:59.559613Z"
    },
    "id": "-CqpVkJEfgIR",
    "outputId": "62ef955f-c7d7-48ad-f37e-3530b25a2b0e",
    "papermill": {
     "duration": 8.006317,
     "end_time": "2023-05-09T13:13:56.553659",
     "exception": false,
     "start_time": "2023-05-09T13:13:48.547342",
     "status": "completed"
    },
    "tags": []
   },
   "outputs": [
    {
     "name": "stdout",
     "output_type": "stream",
     "text": [
      "binding on the temperature and (2) non-zero temperatures will enable only one ferroelectric coupling \n",
      "variations with random complex networks is generated by orders of rod set of sequences in leaf-less s\n",
      "if the system is chosen for the IP channel, one are showing that at least some orthosemplands are rel\n",
      "it can be used to identify and compare their results and obtain results about Portage's lower bounds \n",
      "super stars tend to faster Statistics in merger shocks when the kinematic motion of ~1.4 loo signals \n"
     ]
    }
   ],
   "source": [
    "# Unrelated string\n",
    "seed = (\"This string does not have to do with science at all, it's a text \"\n",
    "        \"about baby shark. Did you know baby shark is the most watched video \"\n",
    "        \"on Youtube as of November 2020? That is insane, this is because \")\n",
    "for k in range(5):\n",
    "  temp = generate_text(model,seed,100)\n",
    "  print(temp)"
   ]
  },
  {
   "cell_type": "code",
   "execution_count": 26,
   "metadata": {
    "execution": {
     "iopub.execute_input": "2023-05-09T13:14:17.575789Z",
     "iopub.status.busy": "2023-05-09T13:14:17.574921Z",
     "iopub.status.idle": "2023-05-09T13:14:20.414563Z",
     "shell.execute_reply": "2023-05-09T13:14:20.415017Z",
     "shell.execute_reply.started": "2023-05-09T10:15:02.356968Z"
    },
    "id": "vU6QoOU2fpGp",
    "outputId": "2ed03ec3-0d29-45c2-b7c1-af80504449bc",
    "papermill": {
     "duration": 7.96599,
     "end_time": "2023-05-09T13:14:20.415151",
     "exception": false,
     "start_time": "2023-05-09T13:14:12.449161",
     "status": "completed"
    },
    "tags": []
   },
   "outputs": [
    {
     "name": "stdout",
     "output_type": "stream",
     "text": [
      "to their inner small transfer data is proposed. The measurement method was established for measured e\n",
      "to the fact that peculiar volumes can be avoided by that there is no zero knot over a\n",
      "\n",
      "simple isometr\n",
      "adjoint and isotropic dissipation scheduling in stage-only control spreadsheet-space structure involv\n",
      "accurately, within the submm enverse entangled discretization is easy to use the planetary eciment wi\n",
      "and, no measurement is postulated on the related original generalisations that provide a\n",
      "\n",
      "threefold, \n"
     ]
    }
   ],
   "source": [
    "# Text in another language. The characters have structure (word and sentences) \n",
    "# but the model has never seen these combinations before\n",
    "seed = (\"Este texto esta escrito en otro idioma que el modelo no ha aprendido, \"\n",
    "        \"veamos que pasa si recibe estas palabras raras que no existen en \"\n",
    "        \"ingles. Lo que el modelo predice es que \")\n",
    "for k in range(5):\n",
    "  temp = generate_text(model,seed,100)\n",
    "  print(temp)"
   ]
  },
  {
   "cell_type": "code",
   "execution_count": 27,
   "metadata": {
    "execution": {
     "iopub.execute_input": "2023-05-09T13:14:41.677444Z",
     "iopub.status.busy": "2023-05-09T13:14:41.676606Z",
     "iopub.status.idle": "2023-05-09T13:14:44.470915Z",
     "shell.execute_reply": "2023-05-09T13:14:44.471906Z",
     "shell.execute_reply.started": "2023-05-09T10:15:05.234846Z"
    },
    "id": "xpac9nPpf4yk",
    "outputId": "e9f49afc-3727-4c6f-9f36-94c6d8c0e5f0",
    "papermill": {
     "duration": 8.561674,
     "end_time": "2023-05-09T13:14:44.472057",
     "exception": false,
     "start_time": "2023-05-09T13:14:35.910383",
     "status": "completed"
    },
    "tags": []
   },
   "outputs": [
    {
     "name": "stdout",
     "output_type": "stream",
     "text": [
      "eighz, Reggeiem(195)Ga(sed) Both Hamiltonian approximation calculations we compiled with Bayesian tec\n",
      "ame, the Reesti Eu), e.g., Sommerfect hinge of inequalities which are propled that (involving vacanci\n",
      "s]),i] R^3, there is a CAT-295 manomagnetic analogue of Alfvenic, Coupled Decrean liquid semiclassica\n",
      "}] of the moduli space of a\n",
      "\n",
      "thirdinal set $M$. We then show that all 'classical results are generali\n",
      "-.ergin)] have the most relevant scale invariant unitary statistics. Simulators and momentum des and \n"
     ]
    }
   ],
   "source": [
    "# Gibberish\n",
    "seed = (\"m0n923h lxnaefpw;'[kdawpe_dlen;a[ak[k] [';jd0389hufw\")\n",
    "for k in range(5):\n",
    "  temp = generate_text(model,seed,100)\n",
    "  print(temp)"
   ]
  },
  {
   "cell_type": "code",
   "execution_count": 28,
   "metadata": {
    "execution": {
     "iopub.execute_input": "2023-05-09T13:15:04.978241Z",
     "iopub.status.busy": "2023-05-09T13:15:04.977351Z",
     "iopub.status.idle": "2023-05-09T13:15:07.960296Z",
     "shell.execute_reply": "2023-05-09T13:15:07.961330Z",
     "shell.execute_reply.started": "2023-05-09T10:15:08.107846Z"
    },
    "id": "U4UEjN_7gkPX",
    "outputId": "e3dc353e-c5e6-4d6d-9e80-bd389ecde515",
    "papermill": {
     "duration": 8.075965,
     "end_time": "2023-05-09T13:15:07.961536",
     "exception": false,
     "start_time": "2023-05-09T13:14:59.885571",
     "status": "completed"
    },
    "tags": []
   },
   "outputs": [
    {
     "name": "stdout",
     "output_type": "stream",
     "text": [
      ", that is, metastable and stochastic wave.\n",
      "\n",
      "  We consider the asymmetries with the new geometry entan\n",
      ", and compare these systems in a closed solution. For small time' logarithms and long periods of redu\n",
      " in an external magnetic field.\n",
      "\n",
      "  The Circumsoludia object spanning a range for h_2 (> 1) dSph/MgIr3\n",
      " within about KK gauge fields. If the unknown entanglement outside the unmagnetized structure as in t\n",
      " in the GHZ quark potential.\n",
      "\n",
      "  Gravity of SO to Leader Spectra (SPA), HST was 98.0 per year and W_H8\n"
     ]
    }
   ],
   "source": [
    "# Does it know how to use question marks?\n",
    "seed = (\"Can naked singularities exist\")\n",
    "for k in range(5):\n",
    "  temp = generate_text(model,seed,100)\n",
    "  print(temp)"
   ]
  },
  {
   "cell_type": "code",
   "execution_count": 29,
   "metadata": {
    "execution": {
     "iopub.execute_input": "2023-05-09T13:15:39.053957Z",
     "iopub.status.busy": "2023-05-09T13:15:39.053174Z",
     "iopub.status.idle": "2023-05-09T13:15:39.504853Z",
     "shell.execute_reply": "2023-05-09T13:15:39.503870Z",
     "shell.execute_reply.started": "2023-05-09T10:15:10.893280Z"
    },
    "id": "1KrMcgbnB2hb",
    "outputId": "9d9a5404-e50a-477a-ec23-8fafb3cd0427",
    "papermill": {
     "duration": 5.585285,
     "end_time": "2023-05-09T13:15:39.505083",
     "exception": true,
     "start_time": "2023-05-09T13:15:33.919798",
     "status": "failed"
    },
    "tags": []
   },
   "outputs": [
    {
     "ename": "KeyError",
     "evalue": "'ñ'",
     "output_type": "error",
     "traceback": [
      "\u001b[0;31m---------------------------------------------------------------------------\u001b[0m",
      "\u001b[0;31mKeyError\u001b[0m                                  Traceback (most recent call last)",
      "\u001b[0;32m<ipython-input-29-c803ccba128f>\u001b[0m in \u001b[0;36m<module>\u001b[0;34m\u001b[0m\n\u001b[1;32m      3\u001b[0m         \"ñ, what will the model do? It predicts the following, \")\n\u001b[1;32m      4\u001b[0m \u001b[0;32mfor\u001b[0m \u001b[0mk\u001b[0m \u001b[0;32min\u001b[0m \u001b[0mrange\u001b[0m\u001b[0;34m(\u001b[0m\u001b[0;36m5\u001b[0m\u001b[0;34m)\u001b[0m\u001b[0;34m:\u001b[0m\u001b[0;34m\u001b[0m\u001b[0;34m\u001b[0m\u001b[0m\n\u001b[0;32m----> 5\u001b[0;31m   \u001b[0mtemp\u001b[0m \u001b[0;34m=\u001b[0m \u001b[0mgenerate_text\u001b[0m\u001b[0;34m(\u001b[0m\u001b[0mmodel\u001b[0m\u001b[0;34m,\u001b[0m\u001b[0mseed\u001b[0m\u001b[0;34m,\u001b[0m\u001b[0;36m100\u001b[0m\u001b[0;34m)\u001b[0m\u001b[0;34m\u001b[0m\u001b[0;34m\u001b[0m\u001b[0m\n\u001b[0m\u001b[1;32m      6\u001b[0m   \u001b[0mprint\u001b[0m\u001b[0;34m(\u001b[0m\u001b[0mtemp\u001b[0m\u001b[0;34m)\u001b[0m\u001b[0;34m\u001b[0m\u001b[0;34m\u001b[0m\u001b[0m\n",
      "\u001b[0;32m<ipython-input-16-25a8387b9cbb>\u001b[0m in \u001b[0;36mgenerate_text\u001b[0;34m(model, seed, num_characters)\u001b[0m\n\u001b[1;32m      1\u001b[0m \u001b[0;32mdef\u001b[0m \u001b[0mgenerate_text\u001b[0m\u001b[0;34m(\u001b[0m\u001b[0mmodel\u001b[0m\u001b[0;34m,\u001b[0m\u001b[0mseed\u001b[0m\u001b[0;34m,\u001b[0m\u001b[0mnum_characters\u001b[0m\u001b[0;34m)\u001b[0m\u001b[0;34m:\u001b[0m\u001b[0;34m\u001b[0m\u001b[0;34m\u001b[0m\u001b[0m\n\u001b[0;32m----> 2\u001b[0;31m   \u001b[0mseed_text\u001b[0m \u001b[0;34m=\u001b[0m \u001b[0mtf\u001b[0m\u001b[0;34m.\u001b[0m\u001b[0mexpand_dims\u001b[0m\u001b[0;34m(\u001b[0m\u001b[0;34m[\u001b[0m\u001b[0mchar2idx\u001b[0m\u001b[0;34m[\u001b[0m\u001b[0mk\u001b[0m\u001b[0;34m]\u001b[0m \u001b[0;32mfor\u001b[0m \u001b[0mk\u001b[0m \u001b[0;32min\u001b[0m \u001b[0mseed\u001b[0m\u001b[0;34m]\u001b[0m\u001b[0;34m,\u001b[0m\u001b[0;36m0\u001b[0m\u001b[0;34m)\u001b[0m\u001b[0;34m\u001b[0m\u001b[0;34m\u001b[0m\u001b[0m\n\u001b[0m\u001b[1;32m      3\u001b[0m   \u001b[0mgenerated_text\u001b[0m \u001b[0;34m=\u001b[0m \u001b[0;34m[\u001b[0m\u001b[0;34m]\u001b[0m\u001b[0;34m\u001b[0m\u001b[0;34m\u001b[0m\u001b[0m\n\u001b[1;32m      4\u001b[0m   \u001b[0mmodel\u001b[0m\u001b[0;34m.\u001b[0m\u001b[0mreset_states\u001b[0m\u001b[0;34m(\u001b[0m\u001b[0;34m)\u001b[0m\u001b[0;34m\u001b[0m\u001b[0;34m\u001b[0m\u001b[0m\n\u001b[1;32m      5\u001b[0m   \u001b[0;32mfor\u001b[0m \u001b[0mn\u001b[0m \u001b[0;32min\u001b[0m \u001b[0mrange\u001b[0m\u001b[0;34m(\u001b[0m\u001b[0mnum_characters\u001b[0m\u001b[0;34m+\u001b[0m\u001b[0;36m1\u001b[0m\u001b[0;34m)\u001b[0m\u001b[0;34m:\u001b[0m\u001b[0;34m\u001b[0m\u001b[0;34m\u001b[0m\u001b[0m\n",
      "\u001b[0;32m<ipython-input-16-25a8387b9cbb>\u001b[0m in \u001b[0;36m<listcomp>\u001b[0;34m(.0)\u001b[0m\n\u001b[1;32m      1\u001b[0m \u001b[0;32mdef\u001b[0m \u001b[0mgenerate_text\u001b[0m\u001b[0;34m(\u001b[0m\u001b[0mmodel\u001b[0m\u001b[0;34m,\u001b[0m\u001b[0mseed\u001b[0m\u001b[0;34m,\u001b[0m\u001b[0mnum_characters\u001b[0m\u001b[0;34m)\u001b[0m\u001b[0;34m:\u001b[0m\u001b[0;34m\u001b[0m\u001b[0;34m\u001b[0m\u001b[0m\n\u001b[0;32m----> 2\u001b[0;31m   \u001b[0mseed_text\u001b[0m \u001b[0;34m=\u001b[0m \u001b[0mtf\u001b[0m\u001b[0;34m.\u001b[0m\u001b[0mexpand_dims\u001b[0m\u001b[0;34m(\u001b[0m\u001b[0;34m[\u001b[0m\u001b[0mchar2idx\u001b[0m\u001b[0;34m[\u001b[0m\u001b[0mk\u001b[0m\u001b[0;34m]\u001b[0m \u001b[0;32mfor\u001b[0m \u001b[0mk\u001b[0m \u001b[0;32min\u001b[0m \u001b[0mseed\u001b[0m\u001b[0;34m]\u001b[0m\u001b[0;34m,\u001b[0m\u001b[0;36m0\u001b[0m\u001b[0;34m)\u001b[0m\u001b[0;34m\u001b[0m\u001b[0;34m\u001b[0m\u001b[0m\n\u001b[0m\u001b[1;32m      3\u001b[0m   \u001b[0mgenerated_text\u001b[0m \u001b[0;34m=\u001b[0m \u001b[0;34m[\u001b[0m\u001b[0;34m]\u001b[0m\u001b[0;34m\u001b[0m\u001b[0;34m\u001b[0m\u001b[0m\n\u001b[1;32m      4\u001b[0m   \u001b[0mmodel\u001b[0m\u001b[0;34m.\u001b[0m\u001b[0mreset_states\u001b[0m\u001b[0;34m(\u001b[0m\u001b[0;34m)\u001b[0m\u001b[0;34m\u001b[0m\u001b[0;34m\u001b[0m\u001b[0m\n\u001b[1;32m      5\u001b[0m   \u001b[0;32mfor\u001b[0m \u001b[0mn\u001b[0m \u001b[0;32min\u001b[0m \u001b[0mrange\u001b[0m\u001b[0;34m(\u001b[0m\u001b[0mnum_characters\u001b[0m\u001b[0;34m+\u001b[0m\u001b[0;36m1\u001b[0m\u001b[0;34m)\u001b[0m\u001b[0;34m:\u001b[0m\u001b[0;34m\u001b[0m\u001b[0;34m\u001b[0m\u001b[0m\n",
      "\u001b[0;31mKeyError\u001b[0m: 'ñ'"
     ]
    }
   ],
   "source": [
    "# OOV test\n",
    "seed = (\"This string contains a character out of vocabulary, the character \"\n",
    "        \"ñ, what will the model do? It predicts the following, \")\n",
    "for k in range(5):\n",
    "  temp = generate_text(model,seed,100)\n",
    "  print(temp)"
   ]
  },
  {
   "attachments": {},
   "cell_type": "markdown",
   "metadata": {
    "id": "kkdDHb8A1ack",
    "papermill": {
     "duration": null,
     "end_time": null,
     "exception": null,
     "start_time": null,
     "status": "pending"
    },
    "tags": []
   },
   "source": [
    "To finish, let it predict a long text and watch it make less and less sense"
   ]
  },
  {
   "cell_type": "code",
   "execution_count": null,
   "metadata": {
    "execution": {
     "iopub.execute_input": "2023-05-09T10:20:47.981347Z",
     "iopub.status.busy": "2023-05-09T10:20:47.980986Z",
     "iopub.status.idle": "2023-05-09T10:20:53.376554Z",
     "shell.execute_reply": "2023-05-09T10:20:53.375649Z",
     "shell.execute_reply.started": "2023-05-09T10:20:47.981311Z"
    },
    "id": "2sqpWJlH1dRK",
    "papermill": {
     "duration": null,
     "end_time": null,
     "exception": null,
     "start_time": null,
     "status": "pending"
    },
    "tags": []
   },
   "outputs": [],
   "source": [
    "# Actual abstract from 2011.02926 minus the last sentence.\n",
    "seed = (\"We consider two fundamental long-standing problems in quantum \"\n",
    "        \"chromodynamics (QCD): the origin of color confinement and structure \"\n",
    "        \"of a true vacuum and color singlet quantum states. There is a common \"\n",
    "        \"belief that resolution to these problems needs a knowledge of a \"\n",
    "        \"strict non-perturbative quantum Yang-Mills theory and new ideas. \"\n",
    "        \"Our principal idea in resolving these problems is that structure of \"\n",
    "        \"color confinement and color singlet quantum states must be determined \"\n",
    "        \"by a Weyl symmetry which is an intrinsic symmetry of the Yang-Mills \"\n",
    "        \"gauge theory, and by properties of a selected class of solutions \"\n",
    "        \"satisfying special requirements. Following this idea we construct for \"\n",
    "        \"the first time a space of color singlet one particle quantum states \"\n",
    "        \"for primary colorless gluons and quarks and reveal the structure of \"\n",
    "        \"color confinement in quantum Yang-Mills theory. \"\n",
    "        \"As an application we demonstrate \")\n",
    "        # \"formation of physical observables in a pure QCD, pure glueballs.\")\n",
    "temp = generate_text(model,seed,1000)"
   ]
  },
  {
   "cell_type": "code",
   "execution_count": null,
   "metadata": {
    "execution": {
     "iopub.status.busy": "2023-05-09T10:15:11.189097Z",
     "iopub.status.idle": "2023-05-09T10:15:11.189906Z"
    },
    "id": "tA7jqfp42C49",
    "outputId": "269e830d-0c70-47d5-dbea-95548ec6e5e3",
    "papermill": {
     "duration": null,
     "end_time": null,
     "exception": null,
     "start_time": null,
     "status": "pending"
    },
    "tags": []
   },
   "outputs": [],
   "source": [
    "import textwrap\n",
    "print(textwrap.fill(temp,80))"
   ]
  }
 ],
 "metadata": {
  "kernelspec": {
   "display_name": "Python 3",
   "language": "python",
   "name": "python3"
  },
  "language_info": {
   "codemirror_mode": {
    "name": "ipython",
    "version": 3
   },
   "file_extension": ".py",
   "mimetype": "text/x-python",
   "name": "python",
   "nbconvert_exporter": "python",
   "pygments_lexer": "ipython3",
   "version": "3.7.6"
  },
  "papermill": {
   "duration": 9233.357437,
   "end_time": "2023-05-09T13:15:45.358116",
   "environment_variables": {},
   "exception": true,
   "input_path": "__notebook__.ipynb",
   "output_path": "__notebook__.ipynb",
   "parameters": {},
   "start_time": "2023-05-09T10:41:52.000679",
   "version": "2.1.0"
  }
 },
 "nbformat": 4,
 "nbformat_minor": 4
}
